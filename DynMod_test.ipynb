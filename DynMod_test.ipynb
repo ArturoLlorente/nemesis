{
 "cells": [
  {
   "cell_type": "code",
   "execution_count": 4,
   "metadata": {},
   "outputs": [],
   "source": [
    "import pickle\n",
    "import os\n",
    "import sys\n",
    "sys.path.insert(0, '../olympus')\n",
    "sys.path.insert(0, '../graphnet/src')\n",
    "sys.path.insert(0, '../gnn_testbed')\n",
    "os.environ[\"XLA_PYTHON_CLIENT_MEM_FRACTION\"]=\"0.1\"\n",
    "\n",
    "import matplotlib\n",
    "import matplotlib.pyplot as plt\n",
    "import plotly.graph_objects as go\n",
    "from plotly.subplots import make_subplots\n",
    "#from tqdm.auto import tqdm\n",
    "\n",
    "import numpy as np\n",
    "import seaborn as sns\n",
    "import random\n",
    "from jax import random\n",
    "from jax import numpy as jnp\n",
    "\n",
    "import torch\n",
    "import torch_cluster\n",
    "import torch_geometric\n",
    "from torch import Tensor\n",
    "from torch_geometric.data import Data\n",
    "from torch_geometric.loader import DataLoader\n",
    "\n",
    "from nemesis.event_generation.detector import make_line, generate_noise, Detector, make_triang\n",
    "from nemesis.plotting import plot_event, plot_events, plot_confusion\n",
    "from nemesis.data_handling.utils import event_labelling\n",
    "from nemesis.node_features.feature_generation import generate_features\n",
    "from nemesis.evaluation.evaluation import model_evaluation, energy_division_loaders, energy_evaluation\n",
    "from nemesis.evaluation.utils import count_parameters\n",
    "from nemesis.models.train import train_model\n",
    "from nemesis.models.gnns import Dynamic_class, DynEdge_modified, Dyn_own\n",
    "\n",
    "from torch.nn import Linear, Identity, ReLU, Softmax, Dropout, LeakyReLU\n",
    "import torch.nn.functional as F\n",
    "from torch_geometric.nn import knn_graph, TAGConv, global_mean_pool, global_max_pool, BatchNorm,  global_add_pool, EdgeConv, DynamicEdgeConv\n",
    "\n",
    "from graphnet.models.gnn.dynedge import DynEdge\n",
    "from graphnet.components.layers import DynEdgeConv\n",
    "from graphnet.models.gnn.gnn import GNN\n",
    "from graphnet.models.utils import calculate_xyzt_homophily, calculate_xyz_homophily_POne\n",
    "\n",
    "%matplotlib inline\n"
   ]
  },
  {
   "cell_type": "code",
   "execution_count": 5,
   "metadata": {},
   "outputs": [
    {
     "name": "stdout",
     "output_type": "stream",
     "text": [
      "CUDA\n"
     ]
    }
   ],
   "source": [
    "outpath = \".\"\n",
    "plt.rcParams['figure.dpi'] = 100\n",
    "if torch.cuda.is_available():\n",
    "    print('CUDA')\n",
    "    device = torch.device(\"cuda\")\n",
    "else:\n",
    "    device = torch.device(\"cpu\")\n",
    "    print('CPU')"
   ]
  },
  {
   "cell_type": "code",
   "execution_count": 6,
   "metadata": {},
   "outputs": [],
   "source": [
    "rng = np.random.RandomState(31338)\n",
    "oms_per_line = 20\n",
    "dist_z = 50 # m\n",
    "dark_noise_rate = 16 * 1e-5  # 1/ns\n",
    "side_len = 100 # m\n",
    "pmts_per_module = 16\n",
    "pmt_cath_area_r = 75E-3 / 2 # m\n",
    "module_radius = 0.21 # m\n",
    "v_x = 0\n",
    "efficiency = pmts_per_module * (pmt_cath_area_r)**2 * np.pi / (4*np.pi*module_radius**2)\n",
    "det = make_triang(side_len, oms_per_line, dist_z, dark_noise_rate, rng, efficiency=efficiency, v_x=v_x, buoy_weight=30)\n",
    "module_positions = jnp.asarray(det.module_coords)"
   ]
  },
  {
   "cell_type": "code",
   "execution_count": 4,
   "metadata": {},
   "outputs": [],
   "source": [
    "def load_all_events(it):\n",
    "    path_to_events = \"/dss/pone/pone_events/all_events\"\n",
    "    load_array = ['cascades_15000ev_3.5-6.5_1.pickle',  'cascades_15000ev_3.5-6.5_2.pickle',\n",
    "                  'cascades_15000ev_3.5-6.5_3.pickle',  'cascades_15000ev_3.5-6.5_4.pickle',\n",
    "                  'stracks_15000ev_3.5-6.5_1.pickle',   'stracks_15000ev_3.5-6.5_2.pickle', \n",
    "                  'stracks_15000ev_3.5-6.5_3.pickle',   'stracks_15000ev_3.5-6.5_4.pickle', \n",
    "                  'tracks_15000ev_3.5-6.5_1.pickle',    'tracks_15000ev_3.5-6.5_2.pickle', \n",
    "                  'tracks_15000ev_3.5-6.5_3.pickle',    'tracks_15000ev_3.5-6.5_4.pickle']\n",
    "            \n",
    "    events, records = pickle.load(open(os.path.join(path_to_events, load_array[it]), \"rb\"))\n",
    "    \n",
    "    print(f'{it} loaded!')\n",
    "    \n",
    "    return events, records"
   ]
  },
  {
   "cell_type": "code",
   "execution_count": null,
   "metadata": {},
   "outputs": [],
   "source": [
    "Radius = 100\n",
    "k = 15\n",
    "cascade_labels, track_labels, strack_labels = event_labelling(track_records, strack_records, cascade_records, det_hull=(Radius,1000))\n",
    "all_events = cascades + tracks + stracks\n",
    "all_records = cascade_records + track_records + strack_records\n",
    "all_labels = cascade_labels + track_labels + strack_labels\n",
    "data_array = generate_features(det, all_events, all_labels, k=k)\n",
    "pickle.dump(data_array,open(f\"/dss/pone/pone_events/features_arrays/data_array_{180}k_k{k}_R{Radius}.pickle\", \"wb\"))"
   ]
  },
  {
   "cell_type": "code",
   "execution_count": 7,
   "metadata": {},
   "outputs": [],
   "source": [
    "Radius = 'out' #100, 75\n",
    "k=15\n",
    "data_array = pickle.load(open(f\"/dss/pone/pone_events/features_arrays/data_array_{180}k_k{k}_R{Radius}.pickle\", \"rb\"))"
   ]
  },
  {
   "cell_type": "code",
   "execution_count": 12,
   "metadata": {},
   "outputs": [],
   "source": [
    "from nemesis.models.gnns import MLP\n",
    "class Dynamic_class(torch.nn.Module):\n",
    "    \n",
    "    def __init__(self, out_channels, k, aggr='max', bigMLP=True):\n",
    "        super().__init__()\n",
    "\n",
    "        self.conv11 = TAGConv(15, 64, K=4)\n",
    "        self.conv12 = TAGConv(64, 64, K=4)\n",
    "        self.BatchNorm1 = BatchNorm(64)\n",
    "\n",
    "        if bigMLP:\n",
    "            b = [64, 64, 32]\n",
    "            c = [2*32, 64, 64]\n",
    "            d = [2*64, 32, 32]\n",
    "        else:\n",
    "            b = [64, 128, 128]\n",
    "            c = [2*128, 64, 64]\n",
    "            d = [2*64, 128, 128]\n",
    "            \n",
    "        self.conv21 = TAGConv(b[0], b[1], K=3)\n",
    "        self.conv22 = TAGConv(b[1], b[2], K=3)\n",
    "        self.BatchNorm2 = BatchNorm(b[2])\n",
    "\n",
    "        self.conv31 = DynamicEdgeConv(Linear(c[0], c[1]), k, aggr)        \n",
    "        self.conv32 = DynamicEdgeConv(Linear(c[1]*2, c[2]), k, aggr)\n",
    "        self.BatchNorm3 = BatchNorm(c[2])\n",
    "\n",
    "        self.conv41 = DynamicEdgeConv(Linear(d[0], d[1]), k, aggr)\n",
    "        self.conv42 = DynamicEdgeConv(Linear(2*d[1], d[2]), k, aggr)\n",
    "        self.BatchNorm4 = BatchNorm(d[2])\n",
    "        \n",
    "        if bigMLP:\n",
    "            self.lin1 = Linear((64*2 + 32*2), 128)\n",
    "            self.mlp = MLP([128, 32, out_channels], dropout=0.5)\n",
    "        else:\n",
    "            self.lin1 = Linear((64*2 + 128*2), 2048)\n",
    "            self.mlp = MLP([2048, 2048, 1024, 1024, 512, 512, 256, 256, out_channels], dropout=0.5)\n",
    "\n",
    "\n",
    "    def forward(self, x):#, edge_index, batch):\n",
    "        x, edge_index, batch = x.x, x.edge_index, x.batch\n",
    "        x1 = self.conv11(x, edge_index).relu()\n",
    "        x1 = self.conv12(x1, edge_index).relu()\n",
    "        x1 = self.BatchNorm1(x1)\n",
    "        x11 = global_max_pool(x1, batch)        \n",
    "\n",
    "        x2 = self.conv21(x1, edge_index).relu()\n",
    "        x2 = self.conv22(x2, edge_index).relu()\n",
    "        x2 = self.BatchNorm2(x2)\n",
    "        x21 = global_max_pool(x2, batch)\n",
    "\n",
    "        x3 = self.conv31(x2, batch)\n",
    "        x3 = self.conv32(x3, batch)\n",
    "        x3 = self.BatchNorm3(x3)\n",
    "        x31 = global_max_pool(x3, batch)\n",
    "\n",
    "        x4 = self.conv41(x3, batch)\n",
    "        x4 = self.conv42(x4, batch)\n",
    "        x4 = self.BatchNorm4(x4)\n",
    "        x41 = global_max_pool(x4, batch)\n",
    "    \n",
    "        out = self.lin1(torch.cat([x11, x21, x31, x41], dim=1))\n",
    "\n",
    "\n",
    "        out = self.mlp(out)\n",
    "        return F.log_softmax(out, dim=1)"
   ]
  },
  {
   "cell_type": "code",
   "execution_count": 8,
   "metadata": {},
   "outputs": [
    {
     "name": "stderr",
     "output_type": "stream",
     "text": [
      "/home/work/.local/lib/python3.10/site-packages/pytorch_lightning/core/lightning.py:22: LightningDeprecationWarning: pytorch_lightning.core.lightning.LightningModule has been deprecated in v1.7 and will be removed in v1.9. Use the equivalent class from the pytorch_lightning.core.module.LightningModule class instead.\n",
      "  rank_zero_deprecation(\n"
     ]
    },
    {
     "data": {
      "application/vnd.jupyter.widget-view+json": {
       "model_id": "0959ba9a8aa54413ade7bb3433d9824b",
       "version_major": 2,
       "version_minor": 0
      },
      "text/plain": [
       "  0%|          | 0/250 [00:00<?, ?it/s]"
      ]
     },
     "metadata": {},
     "output_type": "display_data"
    },
    {
     "name": "stdout",
     "output_type": "stream",
     "text": [
      "Epoch: 000, Train Acc: 0.7922, Val Acc: 0.8662, patience: 0\n",
      "Epoch: 001, Train Acc: 0.8778, Val Acc: 0.8805, patience: 1\n",
      "Epoch: 002, Train Acc: 0.8923, Val Acc: 0.8919, patience: 1\n",
      "Epoch: 003, Train Acc: 0.9009, Val Acc: 0.9020, patience: 1\n",
      "Epoch: 004, Train Acc: 0.9076, Val Acc: 0.8975, patience: 1\n",
      "Epoch: 005, Train Acc: 0.9115, Val Acc: 0.9130, patience: 2\n",
      "Epoch: 006, Train Acc: 0.9145, Val Acc: 0.9126, patience: 1\n",
      "Epoch: 007, Train Acc: 0.9184, Val Acc: 0.9184, patience: 2\n",
      "Epoch: 008, Train Acc: 0.9201, Val Acc: 0.9164, patience: 1\n",
      "Epoch: 009, Train Acc: 0.9214, Val Acc: 0.9163, patience: 2\n",
      "Epoch: 010, Train Acc: 0.9240, Val Acc: 0.9157, patience: 3\n",
      "Epoch: 011, Train Acc: 0.9257, Val Acc: 0.9183, patience: 4\n",
      "Epoch: 012, Train Acc: 0.9275, Val Acc: 0.9176, patience: 5\n",
      "Epoch: 013, Train Acc: 0.9280, Val Acc: 0.9187, patience: 6\n",
      "Epoch: 014, Train Acc: 0.9305, Val Acc: 0.9196, patience: 1\n",
      "Epoch: 015, Train Acc: 0.9319, Val Acc: 0.9232, patience: 1\n",
      "Epoch: 016, Train Acc: 0.9344, Val Acc: 0.9211, patience: 1\n",
      "Epoch: 017, Train Acc: 0.9351, Val Acc: 0.9194, patience: 2\n",
      "Epoch: 018, Train Acc: 0.9360, Val Acc: 0.9193, patience: 3\n",
      "Epoch: 019, Train Acc: 0.9366, Val Acc: 0.9182, patience: 4\n",
      "Epoch: 020, Train Acc: 0.9398, Val Acc: 0.9164, patience: 5\n",
      "Epoch: 021, Train Acc: 0.9392, Val Acc: 0.9199, patience: 6\n",
      "Epoch: 022, Train Acc: 0.9412, Val Acc: 0.9136, patience: 7\n",
      "Epoch: 023, Train Acc: 0.9418, Val Acc: 0.9222, patience: 8\n",
      "Epoch: 024, Train Acc: 0.9432, Val Acc: 0.9186, patience: 9\n",
      "Epoch: 025, Train Acc: 0.9445, Val Acc: 0.9200, patience: 10\n",
      "Epoch: 026, Train Acc: 0.9461, Val Acc: 0.9158, patience: 11\n",
      "Epoch: 027, Train Acc: 0.9470, Val Acc: 0.9206, patience: 12\n",
      "Epoch: 028, Train Acc: 0.9484, Val Acc: 0.9196, patience: 13\n",
      "Epoch: 029, Train Acc: 0.9489, Val Acc: 0.9158, patience: 14\n",
      "Epoch: 030, Train Acc: 0.9501, Val Acc: 0.9071, patience: 15\n",
      "Epoch: 031, Train Acc: 0.9506, Val Acc: 0.9198, patience: 16\n",
      "Epoch: 032, Train Acc: 0.9518, Val Acc: 0.9220, patience: 17\n",
      "Epoch: 033, Train Acc: 0.9534, Val Acc: 0.9195, patience: 18\n",
      "Epoch: 034, Train Acc: 0.9532, Val Acc: 0.9149, patience: 19\n",
      "Epoch: 035, Train Acc: 0.9544, Val Acc: 0.9182, patience: 20\n",
      "Epoch: 036, Train Acc: 0.9558, Val Acc: 0.9175, patience: 21\n",
      "Epoch: 037, Train Acc: 0.9571, Val Acc: 0.8971, patience: 22\n",
      "Epoch: 038, Train Acc: 0.9566, Val Acc: 0.9185, patience: 23\n",
      "Epoch: 039, Train Acc: 0.9604, Val Acc: 0.9146, patience: 24\n",
      "Epoch: 040, Train Acc: 0.9589, Val Acc: 0.9122, patience: 25\n",
      "Epoch: 041, Train Acc: 0.9603, Val Acc: 0.9178, patience: 26\n",
      "Epoch: 042, Train Acc: 0.9611, Val Acc: 0.9188, patience: 27\n",
      "Epoch: 043, Train Acc: 0.9615, Val Acc: 0.9167, patience: 28\n",
      "Epoch: 044, Train Acc: 0.9620, Val Acc: 0.9133, patience: 29\n",
      "Epoch: 045, Train Acc: 0.9630, Val Acc: 0.9188, patience: 30\n",
      "Epoch: 046, Train Acc: 0.9623, Val Acc: 0.9191, patience: 31\n",
      "Epoch: 047, Train Acc: 0.9643, Val Acc: 0.9136, patience: 32\n",
      "Epoch: 048, Train Acc: 0.9644, Val Acc: 0.9110, patience: 33\n",
      "Epoch: 049, Train Acc: 0.9645, Val Acc: 0.9104, patience: 34\n",
      "Epoch: 050, Train Acc: 0.9650, Val Acc: 0.9160, patience: 35\n",
      "Epoch: 051, Train Acc: 0.9662, Val Acc: 0.9159, patience: 36\n",
      "Epoch: 052, Train Acc: 0.9658, Val Acc: 0.9177, patience: 37\n",
      "Epoch: 053, Train Acc: 0.9665, Val Acc: 0.9197, patience: 38\n",
      "Epoch: 054, Train Acc: 0.9680, Val Acc: 0.9124, patience: 39\n",
      "Epoch: 055, Train Acc: 0.9677, Val Acc: 0.9133, patience: 40\n",
      "Epoch: 056, Train Acc: 0.9681, Val Acc: 0.9135, patience: 41\n",
      "Epoch: 057, Train Acc: 0.9669, Val Acc: 0.9186, patience: 42\n",
      "Epoch: 058, Train Acc: 0.9690, Val Acc: 0.9095, patience: 43\n",
      "Epoch: 059, Train Acc: 0.9695, Val Acc: 0.9171, patience: 44\n",
      "Epoch: 060, Train Acc: 0.9700, Val Acc: 0.9113, patience: 45\n",
      "Epoch: 061, Train Acc: 0.9696, Val Acc: 0.9185, patience: 46\n",
      "Epoch: 062, Train Acc: 0.9701, Val Acc: 0.9126, patience: 47\n",
      "Epoch: 063, Train Acc: 0.9702, Val Acc: 0.9113, patience: 48\n",
      "Epoch: 064, Train Acc: 0.9704, Val Acc: 0.9154, patience: 49\n",
      "The best epoch was:  15\n",
      "Number of training epochs:  64\n"
     ]
    },
    {
     "data": {
      "image/png": "[encoded data removed]",
      "text/plain": [
       "<Figure size 640x480 with 1 Axes>"
      ]
     },
     "metadata": {},
     "output_type": "display_data"
    }
   ],
   "source": [
    "import random\n",
    "random.seed(982356)\n",
    "\n",
    "indices = np.arange(len(data_array))\n",
    "random.shuffle(indices)\n",
    "\n",
    "\n",
    "shuffled_data = [data_array[i] for i in indices]\n",
    "split_test = int(len(shuffled_data)*0.95)\n",
    "training_data = shuffled_data[:split_test]\n",
    "split_val = int(len(training_data)*0.9)\n",
    "train_dataset = training_data[:split_val]\n",
    "val_dataset = training_data[split_val:]\n",
    "\n",
    "test_dataset = shuffled_data[split_test:]\n",
    "test_indices = indices[split_test:]\n",
    "\n",
    "epochs = 250\n",
    "patience=50\n",
    "batch_size=250\n",
    "lr=0.001\n",
    "layer_size_scale = 4\n",
    "print_step = 1\n",
    "#model = DynEdge_modified(15, 4, k = k, features_subset = slice(12, 15), layer_size_scale=layer_size_scale)\n",
    "model = Dyn_own(15, 4, k=15, feat_subset=slice(12, 15))\n",
    "model.to(device)\n",
    "label_map = {0:\"Contained cascade\", 1:'Throughgoing Track', 2:\"Starts in detector\", 3:\"Rest of events\"}\n",
    "model, all_trains_acc, all_vals_acc = train_model(model, train_dataset, val_dataset, label_map, k=k, epochs=epochs, patience=patience, print_step=print_step, batch_size=batch_size, lr=lr)\n",
    "plt.plot(np.linspace(0, len(all_trains_acc), len(all_trains_acc)), all_trains_acc, label=\"Training Accuracy\")\n",
    "plt.plot(np.linspace(0, len(all_vals_acc), len(all_vals_acc)), all_vals_acc, label=\"Validation Accuracy\")\n",
    "plt.legend()\n",
    "plt.show()"
   ]
  },
  {
   "cell_type": "code",
   "execution_count": 2,
   "metadata": {},
   "outputs": [
    {
     "ename": "NameError",
     "evalue": "name 'model' is not defined",
     "output_type": "error",
     "traceback": [
      "\u001b[0;31m---------------------------------------------------------------------------\u001b[0m",
      "\u001b[0;31mNameError\u001b[0m                                 Traceback (most recent call last)",
      "\u001b[1;32m/home/work/software/arturo/repos/nemesis/DynMod_test.ipynb Cell 9\u001b[0m in \u001b[0;36m1\n\u001b[0;32m----> <a href='vscode-notebook-cell://ssh-remote%2B10.195.8.98/home/work/software/arturo/repos/nemesis/DynMod_test.ipynb#X33sdnNjb2RlLXJlbW90ZQ%3D%3D?line=0'>1</a>\u001b[0m model\n",
      "\u001b[0;31mNameError\u001b[0m: name 'model' is not defined"
     ]
    }
   ],
   "source": [
    "model"
   ]
  },
  {
   "cell_type": "code",
   "execution_count": 1,
   "metadata": {},
   "outputs": [
    {
     "ename": "NameError",
     "evalue": "name 'data_array' is not defined",
     "output_type": "error",
     "traceback": [
      "\u001b[0;31m---------------------------------------------------------------------------\u001b[0m",
      "\u001b[0;31mNameError\u001b[0m                                 Traceback (most recent call last)",
      "\u001b[1;32m/home/work/software/arturo/repos/nemesis/DynMod_test.ipynb Cell 9\u001b[0m in \u001b[0;36m7\n\u001b[1;32m      <a href='vscode-notebook-cell://ssh-remote%2B10.195.8.98/home/work/software/arturo/repos/nemesis/DynMod_test.ipynb#X11sdnNjb2RlLXJlbW90ZQ%3D%3D?line=4'>5</a>\u001b[0m a \u001b[39m=\u001b[39m datetime\u001b[39m.\u001b[39mnow()\n\u001b[1;32m      <a href='vscode-notebook-cell://ssh-remote%2B10.195.8.98/home/work/software/arturo/repos/nemesis/DynMod_test.ipynb#X11sdnNjb2RlLXJlbW90ZQ%3D%3D?line=5'>6</a>\u001b[0m today_folder \u001b[39m=\u001b[39m \u001b[39mf\u001b[39m\u001b[39m'\u001b[39m\u001b[39m{\u001b[39;00ma\u001b[39m.\u001b[39mstrftime(\u001b[39m\"\u001b[39m\u001b[39m%\u001b[39m\u001b[39mb\u001b[39m\u001b[39m\"\u001b[39m)\u001b[39m}\u001b[39;00m\u001b[39m{\u001b[39;00ma\u001b[39m.\u001b[39mday\u001b[39m}\u001b[39;00m\u001b[39m/\u001b[39m\u001b[39m'\u001b[39m\n\u001b[0;32m----> <a href='vscode-notebook-cell://ssh-remote%2B10.195.8.98/home/work/software/arturo/repos/nemesis/DynMod_test.ipynb#X11sdnNjb2RlLXJlbW90ZQ%3D%3D?line=6'>7</a>\u001b[0m n_events \u001b[39m=\u001b[39m \u001b[39mlen\u001b[39m(data_array)\n\u001b[1;32m      <a href='vscode-notebook-cell://ssh-remote%2B10.195.8.98/home/work/software/arturo/repos/nemesis/DynMod_test.ipynb#X11sdnNjb2RlLXJlbW90ZQ%3D%3D?line=7'>8</a>\u001b[0m R\u001b[39m=\u001b[39m\u001b[39m100\u001b[39m\n\u001b[1;32m      <a href='vscode-notebook-cell://ssh-remote%2B10.195.8.98/home/work/software/arturo/repos/nemesis/DynMod_test.ipynb#X11sdnNjb2RlLXJlbW90ZQ%3D%3D?line=8'>9</a>\u001b[0m k\u001b[39m=\u001b[39m\u001b[39m15\u001b[39m\n",
      "\u001b[0;31mNameError\u001b[0m: name 'data_array' is not defined"
     ]
    }
   ],
   "source": [
    "import os\n",
    "from datetime import datetime\n",
    "\n",
    "path_to_models = \"/dss/pone/nemesis_trained_models/\"\n",
    "a = datetime.now()\n",
    "today_folder = f'{a.strftime(\"%b\")}{a.day}/'\n",
    "n_events = len(data_array)\n",
    "R=100\n",
    "k=15\n",
    "layer_size_scale=4\n",
    "lr=0.001\n",
    "n_events=len(data_array)\n",
    "batch_size=250\n",
    "model_name = \"Dyn_own\"\n",
    "\n",
    "filename = f'{model_name}_{int(n_events/1000)}k_R{R}_k{k}_B{batch_size}_L{layer_size_scale}_lr{lr}.pt'\n",
    "\n",
    "path_to_save = os.path.join(path_to_models, today_folder)\n",
    "if os.path.isdir(path_to_save):\n",
    "    \n",
    "    if os.path.isfile(os.path.join(path_to_save, filename)):\n",
    "        print(f\"file {filename} already exist\")\n",
    "    else:\n",
    "        torch.save(model, os.path.join(path_to_save, filename))\n",
    "else:\n",
    "    os.makedirs(path_to_save)\n",
    "    torch.save(model, os.path.join(path_to_save, filename))"
   ]
  },
  {
   "cell_type": "code",
   "execution_count": null,
   "metadata": {},
   "outputs": [],
   "source": [
    "det, cascades_test, cascade_records_test, tracks_test, track_records_test, stracks_test, strack_records_test = all_ev\n",
    "cascade_labels_test, track_labels_test, strack_labels_test = event_labelling(track_records_test, strack_records_test, cascade_records_test, det_hull=[500, 1000])\n",
    "all_events_test = cascades_test + tracks_test + stracks_test\n",
    "all_records_test = cascade_records_test + track_records_test + strack_records_test\n",
    "all_labels_test = cascade_labels_test + track_labels_test + strack_labels_test"
   ]
  },
  {
   "cell_type": "code",
   "execution_count": null,
   "metadata": {},
   "outputs": [],
   "source": [
    "gaps_to_evaluate = energy_gap_test(det, model, all_events_test, all_records_test, all_labels_test, num_divisions=10, k=8)\n",
    "energy_divisions = gaps_to_evaluate.energy_division_loaders()\n",
    "fig, test_accuracies, misscls_idx = gaps_to_evaluate.energy_evaluation()"
   ]
  },
  {
   "cell_type": "code",
   "execution_count": 158,
   "metadata": {},
   "outputs": [],
   "source": [
    "\n",
    "import torch\n",
    "import torch_geometric\n",
    "import numpy as np\n",
    "import matplotlib\n",
    "matplotlib.use(\"Agg\")\n",
    "import matplotlib.pyplot as plt\n",
    "import seaborn as sns\n",
    "from tqdm.auto import tqdm\n",
    "from nemesis.node_features.feature_generation import get_features\n",
    "from torch_geometric.loader import DataLoader\n",
    "from torch_geometric.nn import knn_graph\n",
    "class energy_gap_test():\n",
    "    \n",
    "    def __init__(self, det, model, all_events_test, all_records_test, all_labels_test, num_divisions:int, k:int):\n",
    "        self.det = det\n",
    "        self.model = model\n",
    "        self.all_events_test = all_events_test\n",
    "        self.all_records_test = all_records_test\n",
    "        self.all_labels_test = all_labels_test\n",
    "        self.k = k\n",
    "        self.num_divisions = num_divisions\n",
    "        \n",
    "    def energy_division_loaders(self, log_emin=None, log_emax=None):\n",
    "        #Create the energy bins\n",
    "        if log_emin and log_emax:\n",
    "            #Emin = np.power(10, log_emin)\n",
    "            #Emax = np.power(10, log_emax)\n",
    "            energy_divisions = np.logspace(log_emin, log_emax, self.num_divisions)\n",
    "            #energy_divisions = np.linspace(Emin, Emax, num_divisions)\n",
    "        else:\n",
    "            all_energies = [sub.mc_info[0]['energy'] for sub in self.all_records_test]\n",
    "            energy_divisions = np.linspace(np.min(all_energies), np.max(all_energies), self.num_divisions)\n",
    "        \n",
    "        len_divisions = 0\n",
    "        #Create dict with the index of the events for each energy division\n",
    "        interval_dict = {}\n",
    "        \n",
    "        for interval_nr in range(len(energy_divisions)-1):\n",
    "            interval_dict[f\"interval{interval_nr}\"] = []\n",
    "            count = 0\n",
    "            for nr,rc in enumerate(self.all_records_test):\n",
    "                if rc.mc_info[0]['energy'] >= energy_divisions[interval_nr] and rc.mc_info[0]['energy'] < energy_divisions[interval_nr+1]:\n",
    "                    count+=1\n",
    "                    #print(energy_divisions[interval_nr+1])\n",
    "                    interval_dict[f\"interval{interval_nr}\"].append(nr)\n",
    "            len_divisions+=count\n",
    "\n",
    "\n",
    "        pbar = tqdm(total=len(self.all_labels_test))\n",
    "        test_energy_loaders = []\n",
    "\n",
    "        #Generate the test energy loaders for each energy division\n",
    "        for int_nr, interval in enumerate(interval_dict):\n",
    "            data_array = []\n",
    "            for ev in interval_dict[interval]:\n",
    "                features = get_features(self.det, self.all_events_test[ev])\n",
    "                valid = np.all(np.isfinite(features), axis=1)\n",
    "                features = features[valid]\n",
    "                x = torch.Tensor(features)\n",
    "                \n",
    "                edge_index = knn_graph(x[:, [-1, -2, -3]], k=self.k, loop=False)\n",
    "                #data = transf(torch_geometric.data.Data(x, edge_index, y=torch.tensor([label], dtype=torch.int64)).to(device))\n",
    "                data = torch_geometric.data.Data(x, edge_index, y=torch.tensor(self.all_labels_test[ev], dtype=torch.int64)).to(device)\n",
    "                data_array.append(data)\n",
    "                pbar.update()\n",
    "            loader = DataLoader(data_array)\n",
    "            test_energy_loaders.append(loader)\n",
    "            self.test_energy_loaders = test_energy_loaders\n",
    "            self.energy_divisions = energy_divisions\n",
    "            \n",
    "        return energy_divisions\n",
    "\n",
    "\n",
    "    def energy_evaluation(self, plot_conf=True, label_map = {0:\"Contained cascade\", 1:'Throughgoing Track', 2:\"Starts in detector\", 3:\"Rest of events\"}):    \n",
    "        \n",
    "        nplt = int(np.ceil(np.sqrt(len(self.test_energy_loaders))))\n",
    "        fig = plt.figure(figsize=(nplt * 4, nplt * 4))\n",
    "        pbar = tqdm(total=len(self.test_energy_loaders))\n",
    "        test_accuracies = []\n",
    "\n",
    "        ## Checking for predictions\n",
    "        with torch.no_grad():\n",
    "            for i, loader in enumerate(self.test_energy_loaders):\n",
    "                test_preds = []\n",
    "                test_truths = []\n",
    "                test_scores = []\n",
    "                all_preds_test_len = 0\n",
    "                \n",
    "                for data in loader:  # Iterate in batches over the training/test dataset.\n",
    "                    out = self.model(data)\n",
    "                    #print(out.shape)\n",
    "                    test_pred = out.argmax(dim=1)\n",
    "                    test_preds.append(test_pred)\n",
    "                    test_truths.append(data.y)\n",
    "                    test_scores.append(out)\n",
    "                    all_preds_test_len+=len(data.y)\n",
    "                    \n",
    "                test_preds = torch.cat(test_preds).cpu()\n",
    "                test_truths = torch.cat(test_truths).cpu()\n",
    "                test_scores = torch.cat(test_scores).cpu()\n",
    "                misscls_idx = np.atleast_1d(np.argwhere(test_preds != test_truths).ravel())\n",
    "                test_accuracy = 100 * (all_preds_test_len - len(misscls_idx)) / all_preds_test_len\n",
    "                all_preds = []\n",
    "                \n",
    "                for j in range(len(label_map)):\n",
    "                    true_sel = test_truths == j\n",
    "                    predictions = np.histogram(test_preds[true_sel], bins=np.arange(0, len(label_map)+1, 1))[0]\n",
    "                    if predictions.sum() == 0:\n",
    "                        predictions = predictions\n",
    "                    else:\n",
    "                        predictions = predictions / predictions.sum()\n",
    "                    all_preds.append(predictions)\n",
    "                    \n",
    "                all_preds = np.vstack(all_preds)\n",
    "                test_accuracies.append(test_accuracy)\n",
    "                \n",
    "                if plot_conf:\n",
    "                    ax = fig.add_subplot(nplt, nplt, i + 1)\n",
    "                    ax1 = sns.heatmap(all_preds, cmap=plt.cm.Blues, annot=True, ax=ax)# xticklabels=list(label_map.values()), yticklabels=list(label_map.values()), ax=ax)\n",
    "                    ax1.set_xlabel(\"Predicted Label\")\n",
    "                    ax1.set_ylabel(\"True Label\")\n",
    "                #ax1.set_title()\n",
    "                #fig1 = ax.get_figure()\n",
    "                pbar.update()\n",
    "                ax, ax1 = 0,0\n",
    "                \n",
    "                \n",
    "        plt.show()\n",
    "        self.test_accuracies = test_accuracies\n",
    "        print('The accuracies of the different energy divisions are', test_accuracies)\n",
    "        \n",
    "        return fig, misscls_idx\n",
    "        \n",
    "    def plot_energy_accuracies(self):\n",
    "        # calculate the widths of the intervals\n",
    "        widths = np.diff(self.energy_divisions)\n",
    "\n",
    "        # create a figure and axis object\n",
    "        fig3, ax3 = plt.subplots()\n",
    "\n",
    "        # plot the histogram of function values for each interval\n",
    "        ax3.bar(self.energy_divisions[:-1], self.test_accuracies, width=widths, align='edge')\n",
    "\n",
    "        # set the x and y axis labels\n",
    "        ax3.set_xlabel('Intervals')\n",
    "        ax3.set_ylabel('Function Values')\n",
    "\n",
    "        # show the plot\n",
    "        plt.show()\n",
    "        return fig3"
   ]
  },
  {
   "cell_type": "code",
   "execution_count": 163,
   "metadata": {},
   "outputs": [
    {
     "data": {
      "application/vnd.jupyter.widget-view+json": {
       "model_id": "452430bb74434b0ca61421da24fa3b88",
       "version_major": 2,
       "version_minor": 0
      },
      "text/plain": [
       "  0%|          | 0/4500 [00:00<?, ?it/s]"
      ]
     },
     "metadata": {},
     "output_type": "display_data"
    }
   ],
   "source": [
    "gaps_to_evaluate = energy_gap_test(det, model, all_events_test, all_records_test, all_labels_test, num_divisions=15, k=15)\n",
    "energy_divisions = gaps_to_evaluate.energy_division_loaders()\n"
   ]
  },
  {
   "cell_type": "code",
   "execution_count": 164,
   "metadata": {},
   "outputs": [
    {
     "data": {
      "application/vnd.jupyter.widget-view+json": {
       "model_id": "78abbaf1568d470481353166c79cc103",
       "version_major": 2,
       "version_minor": 0
      },
      "text/plain": [
       "  0%|          | 0/14 [00:00<?, ?it/s]"
      ]
     },
     "metadata": {},
     "output_type": "display_data"
    },
    {
     "name": "stdout",
     "output_type": "stream",
     "text": [
      "The accuracies of the different energy divisions are [60.207612456747405, 76.02591792656588, 73.74517374517374, 75.0, 77.24137931034483, 82.47422680412372, 82.27848101265823, 75.32467532467533, 72.1311475409836, 74.13793103448276, 60.78431372549019, 88.63636363636364, 75.60975609756098, 92.10526315789474]\n"
     ]
    }
   ],
   "source": [
    "fig, misscls_idx = gaps_to_evaluate.energy_evaluation()"
   ]
  },
  {
   "cell_type": "code",
   "execution_count": 175,
   "metadata": {},
   "outputs": [],
   "source": [
    "def plot_energy_accuracies(energy_divisions, test_accuracies):\n",
    "    # calculate the widths of the intervals\n",
    "    widths = np.diff(energy_divisions,0)\n",
    "\n",
    "    # create a figure and axis object\n",
    "    fig3, ax3 = plt.subplots()\n",
    "\n",
    "    # plot the histogram of function values for each interval\n",
    "    ax3.bar(energy_divisions[:-1], test_accuracies, width=widths, align='edge')\n",
    "\n",
    "    # set the x and y axis labels\n",
    "    ax3.set_xlabel('Intervals')\n",
    "    ax3.set_ylabel('Function Values')\n",
    "\n",
    "    # show the plot\n",
    "    plt.show()\n",
    "    return fig3"
   ]
  },
  {
   "cell_type": "code",
   "execution_count": 176,
   "metadata": {},
   "outputs": [],
   "source": []
  },
  {
   "cell_type": "code",
   "execution_count": 202,
   "metadata": {},
   "outputs": [],
   "source": [
    "%matplotlib inline"
   ]
  },
  {
   "cell_type": "code",
   "execution_count": 206,
   "metadata": {},
   "outputs": [
    {
     "data": {
      "image/png": "[encoded data removed]",
      "text/plain": [
       "<Figure size 640x480 with 1 Axes>"
      ]
     },
     "metadata": {},
     "output_type": "display_data"
    }
   ],
   "source": [
    "\n"
   ]
  },
  {
   "cell_type": "code",
   "execution_count": 204,
   "metadata": {},
   "outputs": [
    {
     "ename": "ValueError",
     "evalue": "shape mismatch: objects cannot be broadcast to a single shape.  Mismatch is between arg 0 with shape (14, 1) and arg 2 with shape (15, 1).",
     "output_type": "error",
     "traceback": [
      "\u001b[0;31m---------------------------------------------------------------------------\u001b[0m",
      "\u001b[0;31mValueError\u001b[0m                                Traceback (most recent call last)",
      "Cell \u001b[0;32mIn [204], line 1\u001b[0m\n\u001b[0;32m----> 1\u001b[0m fig3 \u001b[38;5;241m=\u001b[39m \u001b[43mplot_energy_accuracies\u001b[49m\u001b[43m(\u001b[49m\u001b[43menergy_divisions\u001b[49m\u001b[43m,\u001b[49m\u001b[43m \u001b[49m\u001b[43mtest_accuracies\u001b[49m\u001b[43m)\u001b[49m\n",
      "Cell \u001b[0;32mIn [175], line 9\u001b[0m, in \u001b[0;36mplot_energy_accuracies\u001b[0;34m(energy_divisions, test_accuracies)\u001b[0m\n\u001b[1;32m      6\u001b[0m fig3, ax3 \u001b[38;5;241m=\u001b[39m plt\u001b[38;5;241m.\u001b[39msubplots()\n\u001b[1;32m      8\u001b[0m \u001b[38;5;66;03m# plot the histogram of function values for each interval\u001b[39;00m\n\u001b[0;32m----> 9\u001b[0m \u001b[43max3\u001b[49m\u001b[38;5;241;43m.\u001b[39;49m\u001b[43mbar\u001b[49m\u001b[43m(\u001b[49m\u001b[43menergy_divisions\u001b[49m\u001b[43m[\u001b[49m\u001b[43m:\u001b[49m\u001b[38;5;241;43m-\u001b[39;49m\u001b[38;5;241;43m1\u001b[39;49m\u001b[43m]\u001b[49m\u001b[43m,\u001b[49m\u001b[43m \u001b[49m\u001b[43mtest_accuracies\u001b[49m\u001b[43m,\u001b[49m\u001b[43m \u001b[49m\u001b[43mwidth\u001b[49m\u001b[38;5;241;43m=\u001b[39;49m\u001b[43mwidths\u001b[49m\u001b[43m,\u001b[49m\u001b[43m \u001b[49m\u001b[43malign\u001b[49m\u001b[38;5;241;43m=\u001b[39;49m\u001b[38;5;124;43m'\u001b[39;49m\u001b[38;5;124;43medge\u001b[39;49m\u001b[38;5;124;43m'\u001b[39;49m\u001b[43m)\u001b[49m\n\u001b[1;32m     11\u001b[0m \u001b[38;5;66;03m# set the x and y axis labels\u001b[39;00m\n\u001b[1;32m     12\u001b[0m ax3\u001b[38;5;241m.\u001b[39mset_xlabel(\u001b[38;5;124m'\u001b[39m\u001b[38;5;124mIntervals\u001b[39m\u001b[38;5;124m'\u001b[39m)\n",
      "File \u001b[0;32m~/.local/lib/python3.10/site-packages/matplotlib/__init__.py:1423\u001b[0m, in \u001b[0;36m_preprocess_data.<locals>.inner\u001b[0;34m(ax, data, *args, **kwargs)\u001b[0m\n\u001b[1;32m   1420\u001b[0m \u001b[38;5;129m@functools\u001b[39m\u001b[38;5;241m.\u001b[39mwraps(func)\n\u001b[1;32m   1421\u001b[0m \u001b[38;5;28;01mdef\u001b[39;00m \u001b[38;5;21minner\u001b[39m(ax, \u001b[38;5;241m*\u001b[39margs, data\u001b[38;5;241m=\u001b[39m\u001b[38;5;28;01mNone\u001b[39;00m, \u001b[38;5;241m*\u001b[39m\u001b[38;5;241m*\u001b[39mkwargs):\n\u001b[1;32m   1422\u001b[0m     \u001b[38;5;28;01mif\u001b[39;00m data \u001b[38;5;129;01mis\u001b[39;00m \u001b[38;5;28;01mNone\u001b[39;00m:\n\u001b[0;32m-> 1423\u001b[0m         \u001b[38;5;28;01mreturn\u001b[39;00m \u001b[43mfunc\u001b[49m\u001b[43m(\u001b[49m\u001b[43max\u001b[49m\u001b[43m,\u001b[49m\u001b[43m \u001b[49m\u001b[38;5;241;43m*\u001b[39;49m\u001b[38;5;28;43mmap\u001b[39;49m\u001b[43m(\u001b[49m\u001b[43msanitize_sequence\u001b[49m\u001b[43m,\u001b[49m\u001b[43m \u001b[49m\u001b[43margs\u001b[49m\u001b[43m)\u001b[49m\u001b[43m,\u001b[49m\u001b[43m \u001b[49m\u001b[38;5;241;43m*\u001b[39;49m\u001b[38;5;241;43m*\u001b[39;49m\u001b[43mkwargs\u001b[49m\u001b[43m)\u001b[49m\n\u001b[1;32m   1425\u001b[0m     bound \u001b[38;5;241m=\u001b[39m new_sig\u001b[38;5;241m.\u001b[39mbind(ax, \u001b[38;5;241m*\u001b[39margs, \u001b[38;5;241m*\u001b[39m\u001b[38;5;241m*\u001b[39mkwargs)\n\u001b[1;32m   1426\u001b[0m     auto_label \u001b[38;5;241m=\u001b[39m (bound\u001b[38;5;241m.\u001b[39marguments\u001b[38;5;241m.\u001b[39mget(label_namer)\n\u001b[1;32m   1427\u001b[0m                   \u001b[38;5;129;01mor\u001b[39;00m bound\u001b[38;5;241m.\u001b[39mkwargs\u001b[38;5;241m.\u001b[39mget(label_namer))\n",
      "File \u001b[0;32m~/.local/lib/python3.10/site-packages/matplotlib/axes/_axes.py:2383\u001b[0m, in \u001b[0;36mAxes.bar\u001b[0;34m(self, x, height, width, bottom, align, **kwargs)\u001b[0m\n\u001b[1;32m   2380\u001b[0m     \u001b[38;5;28;01mif\u001b[39;00m yerr \u001b[38;5;129;01mis\u001b[39;00m \u001b[38;5;129;01mnot\u001b[39;00m \u001b[38;5;28;01mNone\u001b[39;00m:\n\u001b[1;32m   2381\u001b[0m         yerr \u001b[38;5;241m=\u001b[39m \u001b[38;5;28mself\u001b[39m\u001b[38;5;241m.\u001b[39m_convert_dx(yerr, y0, y, \u001b[38;5;28mself\u001b[39m\u001b[38;5;241m.\u001b[39mconvert_yunits)\n\u001b[0;32m-> 2383\u001b[0m x, height, width, y, linewidth, hatch \u001b[38;5;241m=\u001b[39m \u001b[43mnp\u001b[49m\u001b[38;5;241;43m.\u001b[39;49m\u001b[43mbroadcast_arrays\u001b[49m\u001b[43m(\u001b[49m\n\u001b[1;32m   2384\u001b[0m \u001b[43m    \u001b[49m\u001b[38;5;66;43;03m# Make args iterable too.\u001b[39;49;00m\n\u001b[1;32m   2385\u001b[0m \u001b[43m    \u001b[49m\u001b[43mnp\u001b[49m\u001b[38;5;241;43m.\u001b[39;49m\u001b[43matleast_1d\u001b[49m\u001b[43m(\u001b[49m\u001b[43mx\u001b[49m\u001b[43m)\u001b[49m\u001b[43m,\u001b[49m\u001b[43m \u001b[49m\u001b[43mheight\u001b[49m\u001b[43m,\u001b[49m\u001b[43m \u001b[49m\u001b[43mwidth\u001b[49m\u001b[43m,\u001b[49m\u001b[43m \u001b[49m\u001b[43my\u001b[49m\u001b[43m,\u001b[49m\u001b[43m \u001b[49m\u001b[43mlinewidth\u001b[49m\u001b[43m,\u001b[49m\u001b[43m \u001b[49m\u001b[43mhatch\u001b[49m\u001b[43m)\u001b[49m\n\u001b[1;32m   2387\u001b[0m \u001b[38;5;66;03m# Now that units have been converted, set the tick locations.\u001b[39;00m\n\u001b[1;32m   2388\u001b[0m \u001b[38;5;28;01mif\u001b[39;00m orientation \u001b[38;5;241m==\u001b[39m \u001b[38;5;124m'\u001b[39m\u001b[38;5;124mvertical\u001b[39m\u001b[38;5;124m'\u001b[39m:\n",
      "File \u001b[0;32m<__array_function__ internals>:180\u001b[0m, in \u001b[0;36mbroadcast_arrays\u001b[0;34m(*args, **kwargs)\u001b[0m\n",
      "File \u001b[0;32m~/.local/lib/python3.10/site-packages/numpy/lib/stride_tricks.py:540\u001b[0m, in \u001b[0;36mbroadcast_arrays\u001b[0;34m(subok, *args)\u001b[0m\n\u001b[1;32m    533\u001b[0m \u001b[38;5;66;03m# nditer is not used here to avoid the limit of 32 arrays.\u001b[39;00m\n\u001b[1;32m    534\u001b[0m \u001b[38;5;66;03m# Otherwise, something like the following one-liner would suffice:\u001b[39;00m\n\u001b[1;32m    535\u001b[0m \u001b[38;5;66;03m# return np.nditer(args, flags=['multi_index', 'zerosize_ok'],\u001b[39;00m\n\u001b[1;32m    536\u001b[0m \u001b[38;5;66;03m#                  order='C').itviews\u001b[39;00m\n\u001b[1;32m    538\u001b[0m args \u001b[38;5;241m=\u001b[39m [np\u001b[38;5;241m.\u001b[39marray(_m, copy\u001b[38;5;241m=\u001b[39m\u001b[38;5;28;01mFalse\u001b[39;00m, subok\u001b[38;5;241m=\u001b[39msubok) \u001b[38;5;28;01mfor\u001b[39;00m _m \u001b[38;5;129;01min\u001b[39;00m args]\n\u001b[0;32m--> 540\u001b[0m shape \u001b[38;5;241m=\u001b[39m \u001b[43m_broadcast_shape\u001b[49m\u001b[43m(\u001b[49m\u001b[38;5;241;43m*\u001b[39;49m\u001b[43margs\u001b[49m\u001b[43m)\u001b[49m\n\u001b[1;32m    542\u001b[0m \u001b[38;5;28;01mif\u001b[39;00m \u001b[38;5;28mall\u001b[39m(array\u001b[38;5;241m.\u001b[39mshape \u001b[38;5;241m==\u001b[39m shape \u001b[38;5;28;01mfor\u001b[39;00m array \u001b[38;5;129;01min\u001b[39;00m args):\n\u001b[1;32m    543\u001b[0m     \u001b[38;5;66;03m# Common case where nothing needs to be broadcasted.\u001b[39;00m\n\u001b[1;32m    544\u001b[0m     \u001b[38;5;28;01mreturn\u001b[39;00m args\n",
      "File \u001b[0;32m~/.local/lib/python3.10/site-packages/numpy/lib/stride_tricks.py:422\u001b[0m, in \u001b[0;36m_broadcast_shape\u001b[0;34m(*args)\u001b[0m\n\u001b[1;32m    417\u001b[0m \u001b[38;5;124;03m\"\"\"Returns the shape of the arrays that would result from broadcasting the\u001b[39;00m\n\u001b[1;32m    418\u001b[0m \u001b[38;5;124;03msupplied arrays against each other.\u001b[39;00m\n\u001b[1;32m    419\u001b[0m \u001b[38;5;124;03m\"\"\"\u001b[39;00m\n\u001b[1;32m    420\u001b[0m \u001b[38;5;66;03m# use the old-iterator because np.nditer does not handle size 0 arrays\u001b[39;00m\n\u001b[1;32m    421\u001b[0m \u001b[38;5;66;03m# consistently\u001b[39;00m\n\u001b[0;32m--> 422\u001b[0m b \u001b[38;5;241m=\u001b[39m \u001b[43mnp\u001b[49m\u001b[38;5;241;43m.\u001b[39;49m\u001b[43mbroadcast\u001b[49m\u001b[43m(\u001b[49m\u001b[38;5;241;43m*\u001b[39;49m\u001b[43margs\u001b[49m\u001b[43m[\u001b[49m\u001b[43m:\u001b[49m\u001b[38;5;241;43m32\u001b[39;49m\u001b[43m]\u001b[49m\u001b[43m)\u001b[49m\n\u001b[1;32m    423\u001b[0m \u001b[38;5;66;03m# unfortunately, it cannot handle 32 or more arguments directly\u001b[39;00m\n\u001b[1;32m    424\u001b[0m \u001b[38;5;28;01mfor\u001b[39;00m pos \u001b[38;5;129;01min\u001b[39;00m \u001b[38;5;28mrange\u001b[39m(\u001b[38;5;241m32\u001b[39m, \u001b[38;5;28mlen\u001b[39m(args), \u001b[38;5;241m31\u001b[39m):\n\u001b[1;32m    425\u001b[0m     \u001b[38;5;66;03m# ironically, np.broadcast does not properly handle np.broadcast\u001b[39;00m\n\u001b[1;32m    426\u001b[0m     \u001b[38;5;66;03m# objects (it treats them as scalars)\u001b[39;00m\n\u001b[1;32m    427\u001b[0m     \u001b[38;5;66;03m# use broadcasting to avoid allocating the full array\u001b[39;00m\n",
      "\u001b[0;31mValueError\u001b[0m: shape mismatch: objects cannot be broadcast to a single shape.  Mismatch is between arg 0 with shape (14, 1) and arg 2 with shape (15, 1)."
     ]
    },
    {
     "data": {
      "image/png": "[encoded data removed]",
      "text/plain": [
       "<Figure size 640x480 with 1 Axes>"
      ]
     },
     "metadata": {},
     "output_type": "display_data"
    }
   ],
   "source": [
    "fig3 = plot_energy_accuracies(energy_divisions, test_accuracies)"
   ]
  },
  {
   "cell_type": "code",
   "execution_count": null,
   "metadata": {},
   "outputs": [],
   "source": [
    "fig3"
   ]
  },
  {
   "cell_type": "code",
   "execution_count": 118,
   "metadata": {},
   "outputs": [],
   "source": [
    "import numpy as np\n",
    "import matplotlib.pyplot as plt\n",
    "\n",
    "def plot_intervals_histogram(intervals, function_values):\n",
    "    # calculate the widths of the intervals\n",
    "    widths = np.diff(intervals)\n",
    "\n",
    "    # create a figure and axis object\n",
    "    fig, ax = plt.subplots()\n",
    "\n",
    "    # plot the histogram of function values for each interval\n",
    "    ax.bar(intervals[:-1], function_values, width=widths, align='edge')\n",
    "\n",
    "    # set the x and y axis labels\n",
    "    ax.set_xlabel('Intervals')\n",
    "    ax.set_ylabel('Function Values')\n",
    "\n",
    "    # show the plot\n",
    "    plt.show()\n",
    "    return fig\n",
    "    "
   ]
  },
  {
   "cell_type": "code",
   "execution_count": 119,
   "metadata": {},
   "outputs": [],
   "source": [
    "    \n",
    "intervals = [0, 1, 2, 3, 4]\n",
    "function_values = [1, 2, 3, 4]\n",
    "\n",
    "fig = plot_intervals_histogram(intervals, function_values)"
   ]
  },
  {
   "cell_type": "code",
   "execution_count": 120,
   "metadata": {},
   "outputs": [
    {
     "data": {
      "image/png": "[encoded data removed]",
      "text/plain": [
       "<Figure size 640x480 with 1 Axes>"
      ]
     },
     "execution_count": 120,
     "metadata": {},
     "output_type": "execute_result"
    }
   ],
   "source": [
    "fig"
   ]
  },
  {
   "cell_type": "code",
   "execution_count": null,
   "metadata": {},
   "outputs": [],
   "source": []
  }
 ],
 "metadata": {
  "kernelspec": {
   "display_name": "Python 3 (ipykernel)",
   "language": "python",
   "name": "python3"
  },
  "vscode": {
   "interpreter": {
    "hash": "d4d1e4263499bec80672ea0156c357c1ee493ec2b1c70f0acce89fc37c4a6abe"
   }
  }
 },
 "nbformat": 4,
 "nbformat_minor": 4
}
