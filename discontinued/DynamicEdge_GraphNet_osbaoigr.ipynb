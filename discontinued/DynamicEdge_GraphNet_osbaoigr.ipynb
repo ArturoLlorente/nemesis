{
 "cells": [
  {
   "cell_type": "code",
   "execution_count": 1,
   "metadata": {},
   "outputs": [
    {
     "name": "stderr",
     "output_type": "stream",
     "text": [
      "/usr/lib/python3/dist-packages/pkg_resources/__init__.py:116: PkgResourcesDeprecationWarning: 1.1build1 is an invalid version and will not be supported in a future release\n",
      "  warnings.warn(\n",
      "/usr/lib/python3/dist-packages/pkg_resources/__init__.py:116: PkgResourcesDeprecationWarning: 0.1.43ubuntu1 is an invalid version and will not be supported in a future release\n",
      "  warnings.warn(\n"
     ]
    },
    {
     "name": "stdout",
     "output_type": "stream",
     "text": [
      "CUDA\n",
      "\u001b[1;34mgraphnet\u001b[0m: \u001b[32mINFO    \u001b[0m 2023-03-12 20:39:47 - get_logger - Writing log to logs/graphnet_20230312-203947.log\u001b[0m\n"
     ]
    },
    {
     "name": "stderr",
     "output_type": "stream",
     "text": [
      "INFO:graphnet:Writing log to logs/graphnet_20230312-203947.log\n"
     ]
    }
   ],
   "source": [
    "import pickle\n",
    "import os\n",
    "import sys\n",
    "sys.path.insert(0, '../olympus')\n",
    "sys.path.insert(0, '../graphnet/src')\n",
    "sys.path.insert(0, '../gnn_testbed')\n",
    "os.environ[\"XLA_PYTHON_CLIENT_MEM_FRACTION\"]=\"0.1\"\n",
    "\n",
    "import matplotlib\n",
    "import matplotlib.pyplot as plt\n",
    "import plotly.graph_objects as go\n",
    "from plotly.subplots import make_subplots\n",
    "#from tqdm.auto import tqdm\n",
    "\n",
    "import numpy as np\n",
    "import seaborn as sns\n",
    "import random\n",
    "from jax import random\n",
    "from jax import numpy as jnp\n",
    "\n",
    "import torch\n",
    "import torch_cluster\n",
    "import torch_geometric\n",
    "from torch import Tensor\n",
    "from torch_geometric.data import Data\n",
    "from torch_geometric.loader import DataLoader\n",
    "\n",
    "from nemesis.event_generation.detector import make_line, generate_noise, Detector, make_triang\n",
    "from nemesis.plotting import plot_event, plot_events, plot_confusion\n",
    "from nemesis.data_handling.utils import event_labelling\n",
    "from nemesis.node_features.feature_generation import generate_features\n",
    "from nemesis.evaluation.evaluation import model_evaluation, energy_division_loaders, energy_evaluation\n",
    "from nemesis.evaluation.utils import count_parameters\n",
    "from nemesis.models.train import train_model\n",
    "from nemesis.models.gnns import Dynamic_class, DynEdge_modified\n",
    "\n",
    "from torch.nn import Linear, Identity, ReLU, Softmax, Dropout, LeakyReLU\n",
    "import torch.nn.functional as F\n",
    "from torch_geometric.nn import knn_graph, TAGConv, global_mean_pool, global_max_pool, BatchNorm,  global_add_pool, EdgeConv, DynamicEdgeConv\n",
    "\n",
    "from graphnet.models.gnn.dynedge import DynEdge\n",
    "from graphnet.components.layers import DynEdgeConv\n",
    "from graphnet.models.gnn.gnn import GNN\n",
    "from graphnet.models.utils import calculate_xyzt_homophily, calculate_xyz_homophily_POne\n",
    "\n",
    "%matplotlib inline\n"
   ]
  },
  {
   "cell_type": "code",
   "execution_count": 2,
   "metadata": {},
   "outputs": [
    {
     "name": "stdout",
     "output_type": "stream",
     "text": [
      "CUDA\n"
     ]
    }
   ],
   "source": [
    "outpath = \".\"\n",
    "plt.rcParams['figure.dpi'] = 100\n",
    "if torch.cuda.is_available():\n",
    "    print('CUDA')\n",
    "    device = torch.device(\"cuda\")\n",
    "else:\n",
    "    device = torch.device(\"cpu\")\n",
    "    print('CPU')"
   ]
  },
  {
   "cell_type": "code",
   "execution_count": 3,
   "metadata": {},
   "outputs": [],
   "source": [
    "rng = np.random.RandomState(31338)\n",
    "oms_per_line = 20\n",
    "dist_z = 50 # m\n",
    "dark_noise_rate = 16 * 1e-5  # 1/ns\n",
    "side_len = 100 # m\n",
    "pmts_per_module = 16\n",
    "pmt_cath_area_r = 75E-3 / 2 # m\n",
    "module_radius = 0.21 # m\n",
    "v_x = 0\n",
    "efficiency = pmts_per_module * (pmt_cath_area_r)**2 * np.pi / (4*np.pi*module_radius**2)\n",
    "det = make_triang(side_len, oms_per_line, dist_z, dark_noise_rate, rng, efficiency=efficiency, v_x=v_x, buoy_weight=30)\n",
    "module_positions = jnp.asarray(det.module_coords)"
   ]
  },
  {
   "cell_type": "code",
   "execution_count": 4,
   "metadata": {},
   "outputs": [],
   "source": [
    "#from multiprocessing import Pool\n",
    "#import pickle\n",
    "#import numpy as np\n",
    "#import os\n",
    "#file_idx = range(12)\n",
    "\n",
    "def load_all_events(it):\n",
    "    path_to_events = \"/dss/pone/pone_events/all_events\"\n",
    "    load_array = ['cascades_15000ev_3.5-6.5_1.pickle',  'cascades_15000ev_3.5-6.5_2.pickle',\n",
    "                  'cascades_15000ev_3.5-6.5_3.pickle',  'cascades_15000ev_3.5-6.5_4.pickle',\n",
    "                  'stracks_15000ev_3.5-6.5_1.pickle',   'stracks_15000ev_3.5-6.5_2.pickle', \n",
    "                  'stracks_15000ev_3.5-6.5_3.pickle',   'stracks_15000ev_3.5-6.5_4.pickle', \n",
    "                  'tracks_15000ev_3.5-6.5_1.pickle',    'tracks_15000ev_3.5-6.5_2.pickle', \n",
    "                  'tracks_15000ev_3.5-6.5_3.pickle',    'tracks_15000ev_3.5-6.5_4.pickle']\n",
    "            \n",
    "    events, records = pickle.load(open(os.path.join(path_to_events, load_array[it]), \"rb\"))\n",
    "    \n",
    "    print(f'{it} loaded!')\n",
    "    \n",
    "    return events, records"
   ]
  },
  {
   "cell_type": "code",
   "execution_count": 7,
   "metadata": {},
   "outputs": [
    {
     "name": "stdout",
     "output_type": "stream",
     "text": [
      "0 loaded!\n",
      "1 loaded!\n",
      "2 loaded!\n",
      "3 loaded!\n",
      "4 loaded!\n",
      "5 loaded!\n",
      "6 loaded!\n",
      "7 loaded!\n",
      "8 loaded!\n",
      "9 loaded!\n",
      "10 loaded!\n",
      "11 loaded!\n"
     ]
    }
   ],
   "source": [
    "cascades1, cascade_records1 = load_all_events(0)        \n",
    "cascades2, cascade_records2 = load_all_events(1)        \n",
    "cascades3, cascade_records3 = load_all_events(2)        \n",
    "cascades4, cascade_records4 = load_all_events(3)        \n",
    "cascades = cascades1 + cascades2 + cascades3 + cascades4\n",
    "cascade_records = cascade_records1 + cascade_records2 + cascade_records3 + cascade_records4\n",
    "\n",
    "stracks1, strack_records1 = load_all_events(4)        \n",
    "stracks2, strack_records2 = load_all_events(5)        \n",
    "stracks3, strack_records3 = load_all_events(6)  \n",
    "stracks4, strack_records4 = load_all_events(7)        \n",
    "stracks = stracks1 + stracks2 + stracks3 + stracks4\n",
    "strack_records = strack_records1 + strack_records2 + strack_records3 + strack_records4\n",
    "\n",
    "tracks1, track_records1 = load_all_events(8)\n",
    "tracks2, track_records2 = load_all_events(9)\n",
    "tracks3, track_records3 = load_all_events(10)\n",
    "tracks4, track_records4 = load_all_events(11)\n",
    "tracks = tracks1 + tracks2 + tracks3 + tracks4\n",
    "track_records = track_records1 + track_records2 + track_records3 + track_records4"
   ]
  },
  {
   "cell_type": "code",
   "execution_count": 8,
   "metadata": {},
   "outputs": [
    {
     "name": "stdout",
     "output_type": "stream",
     "text": [
      "60000 60000 60000 60000 60000 60000\n"
     ]
    }
   ],
   "source": [
    "print(len(cascades), len(cascade_records), len(stracks), len(strack_records), len(tracks), len(track_records))"
   ]
  },
  {
   "cell_type": "code",
   "execution_count": 9,
   "metadata": {},
   "outputs": [],
   "source": [
    "cascade_labels, track_labels, strack_labels = event_labelling(track_records, strack_records, cascade_records, det_hull=(75,1000))"
   ]
  },
  {
   "cell_type": "code",
   "execution_count": 10,
   "metadata": {},
   "outputs": [
    {
     "name": "stdout",
     "output_type": "stream",
     "text": [
      "180000 180000 180000\n"
     ]
    }
   ],
   "source": [
    "all_events = cascades + tracks + stracks\n",
    "all_records = cascade_records + track_records + strack_records\n",
    "all_labels = cascade_labels + track_labels + strack_labels\n",
    "print(len(all_events), len(all_records), len(all_labels))"
   ]
  },
  {
   "cell_type": "code",
   "execution_count": null,
   "metadata": {},
   "outputs": [
    {
     "data": {
      "application/vnd.jupyter.widget-view+json": {
       "model_id": "5205e146bfc141119601fde22c1d1320",
       "version_major": 2,
       "version_minor": 0
      },
      "text/plain": [
       "  0%|          | 0/180000 [00:00<?, ?it/s]"
      ]
     },
     "metadata": {},
     "output_type": "display_data"
    }
   ],
   "source": [
    "R=75\n",
    "k=15\n",
    "data_array = generate_features(det, all_events, all_labels, k=k)"
   ]
  },
  {
   "cell_type": "code",
   "execution_count": null,
   "metadata": {},
   "outputs": [],
   "source": [
    "#pickle.dump(data_array, open(\"/dss/pone/pone_events/features_arrays/data_array_180k_k8_R75.pickle\", \"wb\"))\n",
    "Radius = 75\n",
    "k = 15\n",
    "pickle.dump(data_array, open(f\"/dss/pone/pone_events/features_arrays/data_array_{180}k_k{k}_R{Radius}.pickle\", \"wb\"))"
   ]
  },
  {
   "cell_type": "code",
   "execution_count": 15,
   "metadata": {},
   "outputs": [],
   "source": [
    "import random\n",
    "random.seed(982356)\n",
    "\n",
    "indices = np.arange(len(data_array))\n",
    "random.shuffle(indices)\n",
    "\n",
    "\n",
    "shuffled_data = [data_array[i] for i in indices]\n",
    "split_test = int(len(shuffled_data)*0.98)\n",
    "training_data = shuffled_data[:split_test]\n",
    "split_val = int(len(training_data)*0.9)\n",
    "train_dataset = training_data[:split_val]\n",
    "val_dataset = training_data[split_val:]\n",
    "\n",
    "test_dataset = shuffled_data[split_test:]\n",
    "test_indices = indices[split_test:]\n",
    "\n",
    "k=15\n",
    "epochs = 300\n",
    "patience=50\n",
    "batch_size=250\n",
    "lr=0.001\n",
    "layer_size_scale = 4\n",
    "model = DynEdge_modified(15, 4, k = k, features_subset = slice(12, 15), layer_size_scale=layer_size_scale)\n",
    "model.to(device)\n",
    "label_map = {0:\"Contained cascade\", 1:'Throughgoing Track', 2:\"Starts in detector\", 3:\"Rest of events\"}\n",
    "model, all_trains_acc, all_vals_acc = train_model(model, train_dataset, val_dataset, label_map, k=k, epochs=epochs, patience=patience, print_step=print_step, batch_size=batch_size, lr=lr)\n",
    "plt.plot(np.linspace(0, len(all_trains_acc), len(all_trains_acc)), all_trains_acc, label=\"Training Accuracy\")\n",
    "plt.plot(np.linspace(0, len(all_vals_acc), len(all_vals_acc)), all_vals_acc, label=\"Validation Accuracy\")\n",
    "plt.legend()\n",
    "plt.show()"
   ]
  },
  {
   "cell_type": "code",
   "execution_count": 8,
   "metadata": {},
   "outputs": [
    {
     "name": "stderr",
     "output_type": "stream",
     "text": [
      "/home/work/.local/lib/python3.10/site-packages/pytorch_lightning/core/lightning.py:22: LightningDeprecationWarning: pytorch_lightning.core.lightning.LightningModule has been deprecated in v1.7 and will be removed in v1.9. Use the equivalent class from the pytorch_lightning.core.module.LightningModule class instead.\n",
      "  rank_zero_deprecation(\n"
     ]
    },
    {
     "data": {
      "text/plain": [
       "DynEdge_modified(\n",
       "  (conv_add1): DynEdgeConv(nn=Sequential(\n",
       "    (0): Linear(in_features=30, out_features=128, bias=True)\n",
       "    (1): LeakyReLU(negative_slope=0.01)\n",
       "    (2): Linear(in_features=128, out_features=256, bias=True)\n",
       "    (3): LeakyReLU(negative_slope=0.01)\n",
       "  ))\n",
       "  (conv_add2): DynEdgeConv(nn=Sequential(\n",
       "    (0): Linear(in_features=512, out_features=512, bias=True)\n",
       "    (1): LeakyReLU(negative_slope=0.01)\n",
       "    (2): Linear(in_features=512, out_features=256, bias=True)\n",
       "    (3): LeakyReLU(negative_slope=0.01)\n",
       "  ))\n",
       "  (conv_add3): DynEdgeConv(nn=Sequential(\n",
       "    (0): Linear(in_features=512, out_features=512, bias=True)\n",
       "    (1): LeakyReLU(negative_slope=0.01)\n",
       "    (2): Linear(in_features=512, out_features=256, bias=True)\n",
       "    (3): LeakyReLU(negative_slope=0.01)\n",
       "  ))\n",
       "  (conv_cat1): DynEdgeConv(nn=Sequential(\n",
       "    (0): Linear(in_features=512, out_features=512, bias=True)\n",
       "    (1): LeakyReLU(negative_slope=0.01)\n",
       "    (2): Linear(in_features=512, out_features=256, bias=True)\n",
       "    (3): LeakyReLU(negative_slope=0.01)\n",
       "  ))\n",
       "  (nn1): Linear(in_features=1039, out_features=512, bias=True)\n",
       "  (nn2): Linear(in_features=512, out_features=256, bias=True)\n",
       "  (nn3): Linear(in_features=1027, out_features=4, bias=True)\n",
       "  (lrelu): LeakyReLU(negative_slope=0.01)\n",
       ")"
      ]
     },
     "execution_count": 8,
     "metadata": {},
     "output_type": "execute_result"
    }
   ],
   "source": [
    "model = DynEdge_modified(15, 4, k = 15, features_subset = slice(12, 15), layer_size_scale=4)\n",
    "model.to(device)\n",
    "#count_parameters(model)\n"
   ]
  },
  {
   "cell_type": "code",
   "execution_count": null,
   "metadata": {},
   "outputs": [
    {
     "data": {
      "application/vnd.jupyter.widget-view+json": {
       "model_id": "1c5c3c9154b44a1283304c56ba601610",
       "version_major": 2,
       "version_minor": 0
      },
      "text/plain": [
       "  0%|          | 0/200 [00:00<?, ?it/s]"
      ]
     },
     "metadata": {},
     "output_type": "display_data"
    },
    {
     "name": "stdout",
     "output_type": "stream",
     "text": [
      "Epoch: 000, Train Acc: 0.6979, Val Acc: 0.8492, patience: 0\n",
      "Epoch: 001, Train Acc: 0.8530, Val Acc: 0.8487, patience: 1\n",
      "Epoch: 002, Train Acc: 0.8723, Val Acc: 0.8698, patience: 2\n",
      "Epoch: 003, Train Acc: 0.8839, Val Acc: 0.8883, patience: 1\n",
      "Epoch: 004, Train Acc: 0.8902, Val Acc: 0.8875, patience: 1\n",
      "Epoch: 005, Train Acc: 0.8972, Val Acc: 0.8964, patience: 2\n",
      "Epoch: 006, Train Acc: 0.9005, Val Acc: 0.8977, patience: 1\n",
      "Epoch: 007, Train Acc: 0.9039, Val Acc: 0.8979, patience: 1\n",
      "Epoch: 008, Train Acc: 0.9080, Val Acc: 0.8959, patience: 1\n",
      "Epoch: 009, Train Acc: 0.9105, Val Acc: 0.8976, patience: 2\n",
      "Epoch: 010, Train Acc: 0.9140, Val Acc: 0.9026, patience: 3\n",
      "Epoch: 011, Train Acc: 0.9160, Val Acc: 0.8984, patience: 1\n",
      "Epoch: 012, Train Acc: 0.9192, Val Acc: 0.9051, patience: 2\n",
      "Epoch: 013, Train Acc: 0.9207, Val Acc: 0.9044, patience: 1\n",
      "Epoch: 014, Train Acc: 0.9235, Val Acc: 0.9031, patience: 2\n",
      "Epoch: 015, Train Acc: 0.9257, Val Acc: 0.9073, patience: 3\n",
      "Epoch: 016, Train Acc: 0.9275, Val Acc: 0.9012, patience: 1\n",
      "Epoch: 017, Train Acc: 0.9301, Val Acc: 0.9051, patience: 2\n",
      "Epoch: 018, Train Acc: 0.9319, Val Acc: 0.9008, patience: 3\n",
      "Epoch: 019, Train Acc: 0.9335, Val Acc: 0.9066, patience: 4\n",
      "Epoch: 020, Train Acc: 0.9370, Val Acc: 0.8978, patience: 5\n",
      "Epoch: 021, Train Acc: 0.9367, Val Acc: 0.9043, patience: 6\n",
      "Epoch: 022, Train Acc: 0.9408, Val Acc: 0.9019, patience: 7\n",
      "Epoch: 023, Train Acc: 0.9426, Val Acc: 0.8969, patience: 8\n",
      "Epoch: 024, Train Acc: 0.9453, Val Acc: 0.8983, patience: 9\n",
      "Epoch: 025, Train Acc: 0.9465, Val Acc: 0.8949, patience: 10\n",
      "Epoch: 026, Train Acc: 0.9473, Val Acc: 0.8982, patience: 11\n",
      "Epoch: 027, Train Acc: 0.9503, Val Acc: 0.9016, patience: 12\n",
      "Epoch: 028, Train Acc: 0.9512, Val Acc: 0.8978, patience: 13\n",
      "Epoch: 029, Train Acc: 0.9534, Val Acc: 0.9039, patience: 14\n",
      "Epoch: 030, Train Acc: 0.9557, Val Acc: 0.9033, patience: 15\n"
     ]
    }
   ],
   "source": [
    "label_map = {0:\"Contained cascade\", 1:'Throughgoing Track', 2:\"Starts in detector\", 3:\"Rest of events\"}\n",
    "model, all_trains_acc, all_vals_acc = train_model(model, train_dataset, val_dataset, label_map, k=15, epochs=200, patience=100, print_step=1, batch_size=250, lr=0.001)\n",
    "plt.plot(np.linspace(0, len(all_trains_acc), len(all_trains_acc)), all_trains_acc, label=\"Training Accuracy\")\n",
    "plt.plot(np.linspace(0, len(all_vals_acc), len(all_vals_acc)), all_vals_acc, label=\"Validation Accuracy\")\n",
    "plt.legend()\n",
    "plt.show()"
   ]
  },
  {
   "cell_type": "code",
   "execution_count": 18,
   "metadata": {},
   "outputs": [
    {
     "data": {
      "image/png": "[encoded data removed]",
      "text/plain": [
       "<Figure size 640x480 with 1 Axes>"
      ]
     },
     "metadata": {},
     "output_type": "display_data"
    }
   ],
   "source": [
    "plt.plot(np.linspace(0, len(all_trains_acc), len(all_trains_acc)), all_trains_acc, label=\"Training Accuracy\")\n",
    "plt.plot(np.linspace(0, len(all_vals_acc), len(all_vals_acc)), all_vals_acc, label=\"Validation Accuracy\")\n",
    "plt.legend()\n",
    "plt.show()"
   ]
  },
  {
   "cell_type": "code",
   "execution_count": 19,
   "metadata": {},
   "outputs": [
    {
     "data": {
      "text/plain": [
       "DynEdge_modified(\n",
       "  (conv_add1): DynEdgeConv(nn=Sequential(\n",
       "    (0): Linear(in_features=30, out_features=128, bias=True)\n",
       "    (1): LeakyReLU(negative_slope=0.01)\n",
       "    (2): Linear(in_features=128, out_features=256, bias=True)\n",
       "    (3): LeakyReLU(negative_slope=0.01)\n",
       "  ))\n",
       "  (conv_add2): DynEdgeConv(nn=Sequential(\n",
       "    (0): Linear(in_features=512, out_features=512, bias=True)\n",
       "    (1): LeakyReLU(negative_slope=0.01)\n",
       "    (2): Linear(in_features=512, out_features=256, bias=True)\n",
       "    (3): LeakyReLU(negative_slope=0.01)\n",
       "  ))\n",
       "  (conv_add3): DynEdgeConv(nn=Sequential(\n",
       "    (0): Linear(in_features=512, out_features=512, bias=True)\n",
       "    (1): LeakyReLU(negative_slope=0.01)\n",
       "    (2): Linear(in_features=512, out_features=256, bias=True)\n",
       "    (3): LeakyReLU(negative_slope=0.01)\n",
       "  ))\n",
       "  (conv_cat1): DynEdgeConv(nn=Sequential(\n",
       "    (0): Linear(in_features=512, out_features=512, bias=True)\n",
       "    (1): LeakyReLU(negative_slope=0.01)\n",
       "    (2): Linear(in_features=512, out_features=256, bias=True)\n",
       "    (3): LeakyReLU(negative_slope=0.01)\n",
       "  ))\n",
       "  (nn1): Linear(in_features=1039, out_features=512, bias=True)\n",
       "  (nn2): Linear(in_features=512, out_features=256, bias=True)\n",
       "  (nn3): Linear(in_features=1027, out_features=4, bias=True)\n",
       "  (lrelu): LeakyReLU(negative_slope=0.01)\n",
       ")"
      ]
     },
     "execution_count": 19,
     "metadata": {},
     "output_type": "execute_result"
    }
   ],
   "source": [
    "model"
   ]
  },
  {
   "cell_type": "code",
   "execution_count": 20,
   "metadata": {},
   "outputs": [],
   "source": [
    "import os\n",
    "from datetime import datetime\n",
    "\n",
    "path_to_models = \"/dss/pone/nemesis_trained_models/\"\n",
    "a = datetime.now()\n",
    "today_folder = f'{a.strftime(\"%b\")}{a.day}/'\n",
    "n_events = len(data_array)\n",
    "R=100\n",
    "k=15\n",
    "layer_size_scale=4\n",
    "lr=0.001\n",
    "n_events=len(data_array)\n",
    "batch_size=250\n",
    "model_name = \"DynEdgeMod\"\n",
    "\n",
    "filename = f'{model_name}_{n_events/1000}k_R{R}_k{k}_B{batch_size}_L{layer_size_scale}_lr{lr}.pt'\n",
    "\n",
    "path_to_save = os.path.join(path_to_models, today_folder)\n",
    "if os.path.isdir(path_to_save):\n",
    "    \n",
    "    if os.path.isfile(os.path.join(path_to_save, filename)):\n",
    "        print(f\"file {filename} already exist\")\n",
    "    else:\n",
    "        torch.save(model, os.path.join(path_to_save, filename))\n",
    "else:\n",
    "    os.makedirs(path_to_save)\n",
    "    torch.save(model, os.path.join(path_to_save, filename))"
   ]
  },
  {
   "cell_type": "code",
   "execution_count": 24,
   "metadata": {},
   "outputs": [],
   "source": [
    "def load_test_events(v_x):\n",
    "    path_to_events = \"/dss/pone/pone_events\"\n",
    "    det, cascades, cascade_records = pickle.load(open(os.path.join(path_to_events, f\"cascades1500_vx{v_x}.pickle\"), \"rb\"))\n",
    "    det, tracks, track_records = pickle.load(open(os.path.join(path_to_events, f\"tracks1500_vx{v_x}.pickle\"), \"rb\"))\n",
    "    det, stracks, strack_records = pickle.load(open(os.path.join(path_to_events, f\"starting_tracks1500_vx{v_x}.pickle\"), \"rb\"))\n",
    "    \n",
    "    all_ev = [det, cascades, cascade_records, tracks, track_records, stracks, strack_records]\n",
    "    \n",
    "    return all_ev"
   ]
  },
  {
   "cell_type": "code",
   "execution_count": 30,
   "metadata": {},
   "outputs": [],
   "source": [
    "all_ev = load_test_events(0.05)\n"
   ]
  },
  {
   "cell_type": "code",
   "execution_count": null,
   "metadata": {},
   "outputs": [],
   "source": [
    "rng = np.random.RandomState(31338)\n",
    "oms_per_line = 20\n",
    "dist_z = 50 # m\n",
    "dark_noise_rate = 16 * 1e-5  # 1/ns\n",
    "side_len = 100 # m\n",
    "pmts_per_module = 16\n",
    "pmt_cath_area_r = 75E-3 / 2 # m\n",
    "module_radius = 0.21 # m\n",
    "v_x = 0.05\n",
    "\n",
    "efficiency = pmts_per_module * (pmt_cath_area_r)**2 * np.pi / (4*np.pi*module_radius**2)\n",
    "det = make_triang(side_len, oms_per_line, dist_z, dark_noise_rate, rng, efficiency=efficiency, v_x=v_x, buoy_weight=30)\n",
    "module_positions = jnp.asarray(det.module_coords)"
   ]
  },
  {
   "cell_type": "code",
   "execution_count": null,
   "metadata": {},
   "outputs": [],
   "source": [
    "det, cascades_test, cascade_records_test, tracks_test, track_records_test, stracks_test, strack_records_test = all_ev\n",
    "cascade_labels_test, track_labels_test, strack_labels_test = event_labelling(track_records_test, strack_records_test, cascade_records_test, det_hull=[500, 1000])\n",
    "all_events_test = cascades_test + tracks_test + stracks_test\n",
    "all_records_test = cascade_records_test + track_records_test + strack_records_test\n",
    "all_labels_test = cascade_labels_test + track_labels_test + strack_labels_test"
   ]
  },
  {
   "cell_type": "code",
   "execution_count": null,
   "metadata": {},
   "outputs": [],
   "source": [
    "gaps_to_evaluate = energy_gap_test(det, model, all_events_test, all_records_test, all_labels_test, num_divisions=10, k=8)\n",
    "energy_divisions = gaps_to_evaluate.energy_division_loaders()\n",
    "fig, test_accuracies, misscls_idx = gaps_to_evaluate.energy_evaluation()"
   ]
  },
  {
   "cell_type": "code",
   "execution_count": 158,
   "metadata": {},
   "outputs": [],
   "source": [
    "\n",
    "import torch\n",
    "import torch_geometric\n",
    "import numpy as np\n",
    "import matplotlib\n",
    "matplotlib.use(\"Agg\")\n",
    "import matplotlib.pyplot as plt\n",
    "import seaborn as sns\n",
    "from tqdm.auto import tqdm\n",
    "from nemesis.node_features.feature_generation import get_features\n",
    "from torch_geometric.loader import DataLoader\n",
    "from torch_geometric.nn import knn_graph\n",
    "class energy_gap_test():\n",
    "    \n",
    "    def __init__(self, det, model, all_events_test, all_records_test, all_labels_test, num_divisions:int, k:int):\n",
    "        self.det = det\n",
    "        self.model = model\n",
    "        self.all_events_test = all_events_test\n",
    "        self.all_records_test = all_records_test\n",
    "        self.all_labels_test = all_labels_test\n",
    "        self.k = k\n",
    "        self.num_divisions = num_divisions\n",
    "        \n",
    "    def energy_division_loaders(self, log_emin=None, log_emax=None):\n",
    "        #Create the energy bins\n",
    "        if log_emin and log_emax:\n",
    "            #Emin = np.power(10, log_emin)\n",
    "            #Emax = np.power(10, log_emax)\n",
    "            energy_divisions = np.logspace(log_emin, log_emax, self.num_divisions)\n",
    "            #energy_divisions = np.linspace(Emin, Emax, num_divisions)\n",
    "        else:\n",
    "            all_energies = [sub.mc_info[0]['energy'] for sub in self.all_records_test]\n",
    "            energy_divisions = np.linspace(np.min(all_energies), np.max(all_energies), self.num_divisions)\n",
    "        \n",
    "        len_divisions = 0\n",
    "        #Create dict with the index of the events for each energy division\n",
    "        interval_dict = {}\n",
    "        \n",
    "        for interval_nr in range(len(energy_divisions)-1):\n",
    "            interval_dict[f\"interval{interval_nr}\"] = []\n",
    "            count = 0\n",
    "            for nr,rc in enumerate(self.all_records_test):\n",
    "                if rc.mc_info[0]['energy'] >= energy_divisions[interval_nr] and rc.mc_info[0]['energy'] < energy_divisions[interval_nr+1]:\n",
    "                    count+=1\n",
    "                    #print(energy_divisions[interval_nr+1])\n",
    "                    interval_dict[f\"interval{interval_nr}\"].append(nr)\n",
    "            len_divisions+=count\n",
    "\n",
    "\n",
    "        pbar = tqdm(total=len(self.all_labels_test))\n",
    "        test_energy_loaders = []\n",
    "\n",
    "        #Generate the test energy loaders for each energy division\n",
    "        for int_nr, interval in enumerate(interval_dict):\n",
    "            data_array = []\n",
    "            for ev in interval_dict[interval]:\n",
    "                features = get_features(self.det, self.all_events_test[ev])\n",
    "                valid = np.all(np.isfinite(features), axis=1)\n",
    "                features = features[valid]\n",
    "                x = torch.Tensor(features)\n",
    "                \n",
    "                edge_index = knn_graph(x[:, [-1, -2, -3]], k=self.k, loop=False)\n",
    "                #data = transf(torch_geometric.data.Data(x, edge_index, y=torch.tensor([label], dtype=torch.int64)).to(device))\n",
    "                data = torch_geometric.data.Data(x, edge_index, y=torch.tensor(self.all_labels_test[ev], dtype=torch.int64)).to(device)\n",
    "                data_array.append(data)\n",
    "                pbar.update()\n",
    "            loader = DataLoader(data_array)\n",
    "            test_energy_loaders.append(loader)\n",
    "            self.test_energy_loaders = test_energy_loaders\n",
    "            self.energy_divisions = energy_divisions\n",
    "            \n",
    "        return energy_divisions\n",
    "\n",
    "\n",
    "    def energy_evaluation(self, plot_conf=True, label_map = {0:\"Contained cascade\", 1:'Throughgoing Track', 2:\"Starts in detector\", 3:\"Rest of events\"}):    \n",
    "        \n",
    "        nplt = int(np.ceil(np.sqrt(len(self.test_energy_loaders))))\n",
    "        fig = plt.figure(figsize=(nplt * 4, nplt * 4))\n",
    "        pbar = tqdm(total=len(self.test_energy_loaders))\n",
    "        test_accuracies = []\n",
    "\n",
    "        ## Checking for predictions\n",
    "        with torch.no_grad():\n",
    "            for i, loader in enumerate(self.test_energy_loaders):\n",
    "                test_preds = []\n",
    "                test_truths = []\n",
    "                test_scores = []\n",
    "                all_preds_test_len = 0\n",
    "                \n",
    "                for data in loader:  # Iterate in batches over the training/test dataset.\n",
    "                    out = self.model(data)\n",
    "                    #print(out.shape)\n",
    "                    test_pred = out.argmax(dim=1)\n",
    "                    test_preds.append(test_pred)\n",
    "                    test_truths.append(data.y)\n",
    "                    test_scores.append(out)\n",
    "                    all_preds_test_len+=len(data.y)\n",
    "                    \n",
    "                test_preds = torch.cat(test_preds).cpu()\n",
    "                test_truths = torch.cat(test_truths).cpu()\n",
    "                test_scores = torch.cat(test_scores).cpu()\n",
    "                misscls_idx = np.atleast_1d(np.argwhere(test_preds != test_truths).ravel())\n",
    "                test_accuracy = 100 * (all_preds_test_len - len(misscls_idx)) / all_preds_test_len\n",
    "                all_preds = []\n",
    "                \n",
    "                for j in range(len(label_map)):\n",
    "                    true_sel = test_truths == j\n",
    "                    predictions = np.histogram(test_preds[true_sel], bins=np.arange(0, len(label_map)+1, 1))[0]\n",
    "                    if predictions.sum() == 0:\n",
    "                        predictions = predictions\n",
    "                    else:\n",
    "                        predictions = predictions / predictions.sum()\n",
    "                    all_preds.append(predictions)\n",
    "                    \n",
    "                all_preds = np.vstack(all_preds)\n",
    "                test_accuracies.append(test_accuracy)\n",
    "                \n",
    "                if plot_conf:\n",
    "                    ax = fig.add_subplot(nplt, nplt, i + 1)\n",
    "                    ax1 = sns.heatmap(all_preds, cmap=plt.cm.Blues, annot=True, ax=ax)# xticklabels=list(label_map.values()), yticklabels=list(label_map.values()), ax=ax)\n",
    "                    ax1.set_xlabel(\"Predicted Label\")\n",
    "                    ax1.set_ylabel(\"True Label\")\n",
    "                #ax1.set_title()\n",
    "                #fig1 = ax.get_figure()\n",
    "                pbar.update()\n",
    "                ax, ax1 = 0,0\n",
    "                \n",
    "                \n",
    "        plt.show()\n",
    "        self.test_accuracies = test_accuracies\n",
    "        print('The accuracies of the different energy divisions are', test_accuracies)\n",
    "        \n",
    "        return fig, misscls_idx\n",
    "        \n",
    "    def plot_energy_accuracies(self):\n",
    "        # calculate the widths of the intervals\n",
    "        widths = np.diff(self.energy_divisions)\n",
    "\n",
    "        # create a figure and axis object\n",
    "        fig3, ax3 = plt.subplots()\n",
    "\n",
    "        # plot the histogram of function values for each interval\n",
    "        ax3.bar(self.energy_divisions[:-1], self.test_accuracies, width=widths, align='edge')\n",
    "\n",
    "        # set the x and y axis labels\n",
    "        ax3.set_xlabel('Intervals')\n",
    "        ax3.set_ylabel('Function Values')\n",
    "\n",
    "        # show the plot\n",
    "        plt.show()\n",
    "        return fig3"
   ]
  },
  {
   "cell_type": "code",
   "execution_count": 163,
   "metadata": {},
   "outputs": [
    {
     "data": {
      "application/vnd.jupyter.widget-view+json": {
       "model_id": "452430bb74434b0ca61421da24fa3b88",
       "version_major": 2,
       "version_minor": 0
      },
      "text/plain": [
       "  0%|          | 0/4500 [00:00<?, ?it/s]"
      ]
     },
     "metadata": {},
     "output_type": "display_data"
    }
   ],
   "source": [
    "gaps_to_evaluate = energy_gap_test(det, model, all_events_test, all_records_test, all_labels_test, num_divisions=15, k=15)\n",
    "energy_divisions = gaps_to_evaluate.energy_division_loaders()\n"
   ]
  },
  {
   "cell_type": "code",
   "execution_count": 164,
   "metadata": {},
   "outputs": [
    {
     "data": {
      "application/vnd.jupyter.widget-view+json": {
       "model_id": "78abbaf1568d470481353166c79cc103",
       "version_major": 2,
       "version_minor": 0
      },
      "text/plain": [
       "  0%|          | 0/14 [00:00<?, ?it/s]"
      ]
     },
     "metadata": {},
     "output_type": "display_data"
    },
    {
     "name": "stdout",
     "output_type": "stream",
     "text": [
      "The accuracies of the different energy divisions are [60.207612456747405, 76.02591792656588, 73.74517374517374, 75.0, 77.24137931034483, 82.47422680412372, 82.27848101265823, 75.32467532467533, 72.1311475409836, 74.13793103448276, 60.78431372549019, 88.63636363636364, 75.60975609756098, 92.10526315789474]\n"
     ]
    }
   ],
   "source": [
    "fig, misscls_idx = gaps_to_evaluate.energy_evaluation()"
   ]
  },
  {
   "cell_type": "code",
   "execution_count": 175,
   "metadata": {},
   "outputs": [],
   "source": [
    "def plot_energy_accuracies(energy_divisions, test_accuracies):\n",
    "    # calculate the widths of the intervals\n",
    "    widths = np.diff(energy_divisions,0)\n",
    "\n",
    "    # create a figure and axis object\n",
    "    fig3, ax3 = plt.subplots()\n",
    "\n",
    "    # plot the histogram of function values for each interval\n",
    "    ax3.bar(energy_divisions[:-1], test_accuracies, width=widths, align='edge')\n",
    "\n",
    "    # set the x and y axis labels\n",
    "    ax3.set_xlabel('Intervals')\n",
    "    ax3.set_ylabel('Function Values')\n",
    "\n",
    "    # show the plot\n",
    "    plt.show()\n",
    "    return fig3"
   ]
  },
  {
   "cell_type": "code",
   "execution_count": 176,
   "metadata": {},
   "outputs": [],
   "source": []
  },
  {
   "cell_type": "code",
   "execution_count": 202,
   "metadata": {},
   "outputs": [],
   "source": [
    "%matplotlib inline"
   ]
  },
  {
   "cell_type": "code",
   "execution_count": 206,
   "metadata": {},
   "outputs": [
    {
     "data": {
      "image/png": "[encoded data removed]",
      "text/plain": [
       "<Figure size 640x480 with 1 Axes>"
      ]
     },
     "metadata": {},
     "output_type": "display_data"
    }
   ],
   "source": [
    "\n"
   ]
  },
  {
   "cell_type": "code",
   "execution_count": 204,
   "metadata": {},
   "outputs": [
    {
     "ename": "ValueError",
     "evalue": "shape mismatch: objects cannot be broadcast to a single shape.  Mismatch is between arg 0 with shape (14, 1) and arg 2 with shape (15, 1).",
     "output_type": "error",
     "traceback": [
      "\u001b[0;31m---------------------------------------------------------------------------\u001b[0m",
      "\u001b[0;31mValueError\u001b[0m                                Traceback (most recent call last)",
      "Cell \u001b[0;32mIn [204], line 1\u001b[0m\n\u001b[0;32m----> 1\u001b[0m fig3 \u001b[38;5;241m=\u001b[39m \u001b[43mplot_energy_accuracies\u001b[49m\u001b[43m(\u001b[49m\u001b[43menergy_divisions\u001b[49m\u001b[43m,\u001b[49m\u001b[43m \u001b[49m\u001b[43mtest_accuracies\u001b[49m\u001b[43m)\u001b[49m\n",
      "Cell \u001b[0;32mIn [175], line 9\u001b[0m, in \u001b[0;36mplot_energy_accuracies\u001b[0;34m(energy_divisions, test_accuracies)\u001b[0m\n\u001b[1;32m      6\u001b[0m fig3, ax3 \u001b[38;5;241m=\u001b[39m plt\u001b[38;5;241m.\u001b[39msubplots()\n\u001b[1;32m      8\u001b[0m \u001b[38;5;66;03m# plot the histogram of function values for each interval\u001b[39;00m\n\u001b[0;32m----> 9\u001b[0m \u001b[43max3\u001b[49m\u001b[38;5;241;43m.\u001b[39;49m\u001b[43mbar\u001b[49m\u001b[43m(\u001b[49m\u001b[43menergy_divisions\u001b[49m\u001b[43m[\u001b[49m\u001b[43m:\u001b[49m\u001b[38;5;241;43m-\u001b[39;49m\u001b[38;5;241;43m1\u001b[39;49m\u001b[43m]\u001b[49m\u001b[43m,\u001b[49m\u001b[43m \u001b[49m\u001b[43mtest_accuracies\u001b[49m\u001b[43m,\u001b[49m\u001b[43m \u001b[49m\u001b[43mwidth\u001b[49m\u001b[38;5;241;43m=\u001b[39;49m\u001b[43mwidths\u001b[49m\u001b[43m,\u001b[49m\u001b[43m \u001b[49m\u001b[43malign\u001b[49m\u001b[38;5;241;43m=\u001b[39;49m\u001b[38;5;124;43m'\u001b[39;49m\u001b[38;5;124;43medge\u001b[39;49m\u001b[38;5;124;43m'\u001b[39;49m\u001b[43m)\u001b[49m\n\u001b[1;32m     11\u001b[0m \u001b[38;5;66;03m# set the x and y axis labels\u001b[39;00m\n\u001b[1;32m     12\u001b[0m ax3\u001b[38;5;241m.\u001b[39mset_xlabel(\u001b[38;5;124m'\u001b[39m\u001b[38;5;124mIntervals\u001b[39m\u001b[38;5;124m'\u001b[39m)\n",
      "File \u001b[0;32m~/.local/lib/python3.10/site-packages/matplotlib/__init__.py:1423\u001b[0m, in \u001b[0;36m_preprocess_data.<locals>.inner\u001b[0;34m(ax, data, *args, **kwargs)\u001b[0m\n\u001b[1;32m   1420\u001b[0m \u001b[38;5;129m@functools\u001b[39m\u001b[38;5;241m.\u001b[39mwraps(func)\n\u001b[1;32m   1421\u001b[0m \u001b[38;5;28;01mdef\u001b[39;00m \u001b[38;5;21minner\u001b[39m(ax, \u001b[38;5;241m*\u001b[39margs, data\u001b[38;5;241m=\u001b[39m\u001b[38;5;28;01mNone\u001b[39;00m, \u001b[38;5;241m*\u001b[39m\u001b[38;5;241m*\u001b[39mkwargs):\n\u001b[1;32m   1422\u001b[0m     \u001b[38;5;28;01mif\u001b[39;00m data \u001b[38;5;129;01mis\u001b[39;00m \u001b[38;5;28;01mNone\u001b[39;00m:\n\u001b[0;32m-> 1423\u001b[0m         \u001b[38;5;28;01mreturn\u001b[39;00m \u001b[43mfunc\u001b[49m\u001b[43m(\u001b[49m\u001b[43max\u001b[49m\u001b[43m,\u001b[49m\u001b[43m \u001b[49m\u001b[38;5;241;43m*\u001b[39;49m\u001b[38;5;28;43mmap\u001b[39;49m\u001b[43m(\u001b[49m\u001b[43msanitize_sequence\u001b[49m\u001b[43m,\u001b[49m\u001b[43m \u001b[49m\u001b[43margs\u001b[49m\u001b[43m)\u001b[49m\u001b[43m,\u001b[49m\u001b[43m \u001b[49m\u001b[38;5;241;43m*\u001b[39;49m\u001b[38;5;241;43m*\u001b[39;49m\u001b[43mkwargs\u001b[49m\u001b[43m)\u001b[49m\n\u001b[1;32m   1425\u001b[0m     bound \u001b[38;5;241m=\u001b[39m new_sig\u001b[38;5;241m.\u001b[39mbind(ax, \u001b[38;5;241m*\u001b[39margs, \u001b[38;5;241m*\u001b[39m\u001b[38;5;241m*\u001b[39mkwargs)\n\u001b[1;32m   1426\u001b[0m     auto_label \u001b[38;5;241m=\u001b[39m (bound\u001b[38;5;241m.\u001b[39marguments\u001b[38;5;241m.\u001b[39mget(label_namer)\n\u001b[1;32m   1427\u001b[0m                   \u001b[38;5;129;01mor\u001b[39;00m bound\u001b[38;5;241m.\u001b[39mkwargs\u001b[38;5;241m.\u001b[39mget(label_namer))\n",
      "File \u001b[0;32m~/.local/lib/python3.10/site-packages/matplotlib/axes/_axes.py:2383\u001b[0m, in \u001b[0;36mAxes.bar\u001b[0;34m(self, x, height, width, bottom, align, **kwargs)\u001b[0m\n\u001b[1;32m   2380\u001b[0m     \u001b[38;5;28;01mif\u001b[39;00m yerr \u001b[38;5;129;01mis\u001b[39;00m \u001b[38;5;129;01mnot\u001b[39;00m \u001b[38;5;28;01mNone\u001b[39;00m:\n\u001b[1;32m   2381\u001b[0m         yerr \u001b[38;5;241m=\u001b[39m \u001b[38;5;28mself\u001b[39m\u001b[38;5;241m.\u001b[39m_convert_dx(yerr, y0, y, \u001b[38;5;28mself\u001b[39m\u001b[38;5;241m.\u001b[39mconvert_yunits)\n\u001b[0;32m-> 2383\u001b[0m x, height, width, y, linewidth, hatch \u001b[38;5;241m=\u001b[39m \u001b[43mnp\u001b[49m\u001b[38;5;241;43m.\u001b[39;49m\u001b[43mbroadcast_arrays\u001b[49m\u001b[43m(\u001b[49m\n\u001b[1;32m   2384\u001b[0m \u001b[43m    \u001b[49m\u001b[38;5;66;43;03m# Make args iterable too.\u001b[39;49;00m\n\u001b[1;32m   2385\u001b[0m \u001b[43m    \u001b[49m\u001b[43mnp\u001b[49m\u001b[38;5;241;43m.\u001b[39;49m\u001b[43matleast_1d\u001b[49m\u001b[43m(\u001b[49m\u001b[43mx\u001b[49m\u001b[43m)\u001b[49m\u001b[43m,\u001b[49m\u001b[43m \u001b[49m\u001b[43mheight\u001b[49m\u001b[43m,\u001b[49m\u001b[43m \u001b[49m\u001b[43mwidth\u001b[49m\u001b[43m,\u001b[49m\u001b[43m \u001b[49m\u001b[43my\u001b[49m\u001b[43m,\u001b[49m\u001b[43m \u001b[49m\u001b[43mlinewidth\u001b[49m\u001b[43m,\u001b[49m\u001b[43m \u001b[49m\u001b[43mhatch\u001b[49m\u001b[43m)\u001b[49m\n\u001b[1;32m   2387\u001b[0m \u001b[38;5;66;03m# Now that units have been converted, set the tick locations.\u001b[39;00m\n\u001b[1;32m   2388\u001b[0m \u001b[38;5;28;01mif\u001b[39;00m orientation \u001b[38;5;241m==\u001b[39m \u001b[38;5;124m'\u001b[39m\u001b[38;5;124mvertical\u001b[39m\u001b[38;5;124m'\u001b[39m:\n",
      "File \u001b[0;32m<__array_function__ internals>:180\u001b[0m, in \u001b[0;36mbroadcast_arrays\u001b[0;34m(*args, **kwargs)\u001b[0m\n",
      "File \u001b[0;32m~/.local/lib/python3.10/site-packages/numpy/lib/stride_tricks.py:540\u001b[0m, in \u001b[0;36mbroadcast_arrays\u001b[0;34m(subok, *args)\u001b[0m\n\u001b[1;32m    533\u001b[0m \u001b[38;5;66;03m# nditer is not used here to avoid the limit of 32 arrays.\u001b[39;00m\n\u001b[1;32m    534\u001b[0m \u001b[38;5;66;03m# Otherwise, something like the following one-liner would suffice:\u001b[39;00m\n\u001b[1;32m    535\u001b[0m \u001b[38;5;66;03m# return np.nditer(args, flags=['multi_index', 'zerosize_ok'],\u001b[39;00m\n\u001b[1;32m    536\u001b[0m \u001b[38;5;66;03m#                  order='C').itviews\u001b[39;00m\n\u001b[1;32m    538\u001b[0m args \u001b[38;5;241m=\u001b[39m [np\u001b[38;5;241m.\u001b[39marray(_m, copy\u001b[38;5;241m=\u001b[39m\u001b[38;5;28;01mFalse\u001b[39;00m, subok\u001b[38;5;241m=\u001b[39msubok) \u001b[38;5;28;01mfor\u001b[39;00m _m \u001b[38;5;129;01min\u001b[39;00m args]\n\u001b[0;32m--> 540\u001b[0m shape \u001b[38;5;241m=\u001b[39m \u001b[43m_broadcast_shape\u001b[49m\u001b[43m(\u001b[49m\u001b[38;5;241;43m*\u001b[39;49m\u001b[43margs\u001b[49m\u001b[43m)\u001b[49m\n\u001b[1;32m    542\u001b[0m \u001b[38;5;28;01mif\u001b[39;00m \u001b[38;5;28mall\u001b[39m(array\u001b[38;5;241m.\u001b[39mshape \u001b[38;5;241m==\u001b[39m shape \u001b[38;5;28;01mfor\u001b[39;00m array \u001b[38;5;129;01min\u001b[39;00m args):\n\u001b[1;32m    543\u001b[0m     \u001b[38;5;66;03m# Common case where nothing needs to be broadcasted.\u001b[39;00m\n\u001b[1;32m    544\u001b[0m     \u001b[38;5;28;01mreturn\u001b[39;00m args\n",
      "File \u001b[0;32m~/.local/lib/python3.10/site-packages/numpy/lib/stride_tricks.py:422\u001b[0m, in \u001b[0;36m_broadcast_shape\u001b[0;34m(*args)\u001b[0m\n\u001b[1;32m    417\u001b[0m \u001b[38;5;124;03m\"\"\"Returns the shape of the arrays that would result from broadcasting the\u001b[39;00m\n\u001b[1;32m    418\u001b[0m \u001b[38;5;124;03msupplied arrays against each other.\u001b[39;00m\n\u001b[1;32m    419\u001b[0m \u001b[38;5;124;03m\"\"\"\u001b[39;00m\n\u001b[1;32m    420\u001b[0m \u001b[38;5;66;03m# use the old-iterator because np.nditer does not handle size 0 arrays\u001b[39;00m\n\u001b[1;32m    421\u001b[0m \u001b[38;5;66;03m# consistently\u001b[39;00m\n\u001b[0;32m--> 422\u001b[0m b \u001b[38;5;241m=\u001b[39m \u001b[43mnp\u001b[49m\u001b[38;5;241;43m.\u001b[39;49m\u001b[43mbroadcast\u001b[49m\u001b[43m(\u001b[49m\u001b[38;5;241;43m*\u001b[39;49m\u001b[43margs\u001b[49m\u001b[43m[\u001b[49m\u001b[43m:\u001b[49m\u001b[38;5;241;43m32\u001b[39;49m\u001b[43m]\u001b[49m\u001b[43m)\u001b[49m\n\u001b[1;32m    423\u001b[0m \u001b[38;5;66;03m# unfortunately, it cannot handle 32 or more arguments directly\u001b[39;00m\n\u001b[1;32m    424\u001b[0m \u001b[38;5;28;01mfor\u001b[39;00m pos \u001b[38;5;129;01min\u001b[39;00m \u001b[38;5;28mrange\u001b[39m(\u001b[38;5;241m32\u001b[39m, \u001b[38;5;28mlen\u001b[39m(args), \u001b[38;5;241m31\u001b[39m):\n\u001b[1;32m    425\u001b[0m     \u001b[38;5;66;03m# ironically, np.broadcast does not properly handle np.broadcast\u001b[39;00m\n\u001b[1;32m    426\u001b[0m     \u001b[38;5;66;03m# objects (it treats them as scalars)\u001b[39;00m\n\u001b[1;32m    427\u001b[0m     \u001b[38;5;66;03m# use broadcasting to avoid allocating the full array\u001b[39;00m\n",
      "\u001b[0;31mValueError\u001b[0m: shape mismatch: objects cannot be broadcast to a single shape.  Mismatch is between arg 0 with shape (14, 1) and arg 2 with shape (15, 1)."
     ]
    },
    {
     "data": {
      "image/png": "[encoded data removed]",
      "text/plain": [
       "<Figure size 640x480 with 1 Axes>"
      ]
     },
     "metadata": {},
     "output_type": "display_data"
    }
   ],
   "source": [
    "fig3 = plot_energy_accuracies(energy_divisions, test_accuracies)"
   ]
  },
  {
   "cell_type": "code",
   "execution_count": null,
   "metadata": {},
   "outputs": [],
   "source": [
    "fig3"
   ]
  },
  {
   "cell_type": "code",
   "execution_count": 118,
   "metadata": {},
   "outputs": [],
   "source": [
    "import numpy as np\n",
    "import matplotlib.pyplot as plt\n",
    "\n",
    "def plot_intervals_histogram(intervals, function_values):\n",
    "    # calculate the widths of the intervals\n",
    "    widths = np.diff(intervals)\n",
    "\n",
    "    # create a figure and axis object\n",
    "    fig, ax = plt.subplots()\n",
    "\n",
    "    # plot the histogram of function values for each interval\n",
    "    ax.bar(intervals[:-1], function_values, width=widths, align='edge')\n",
    "\n",
    "    # set the x and y axis labels\n",
    "    ax.set_xlabel('Intervals')\n",
    "    ax.set_ylabel('Function Values')\n",
    "\n",
    "    # show the plot\n",
    "    plt.show()\n",
    "    return fig\n",
    "    "
   ]
  },
  {
   "cell_type": "code",
   "execution_count": 119,
   "metadata": {},
   "outputs": [],
   "source": [
    "    \n",
    "intervals = [0, 1, 2, 3, 4]\n",
    "function_values = [1, 2, 3, 4]\n",
    "\n",
    "fig = plot_intervals_histogram(intervals, function_values)"
   ]
  },
  {
   "cell_type": "code",
   "execution_count": 120,
   "metadata": {},
   "outputs": [
    {
     "data": {
      "image/png": "[encoded data removed]",
      "text/plain": [
       "<Figure size 640x480 with 1 Axes>"
      ]
     },
     "execution_count": 120,
     "metadata": {},
     "output_type": "execute_result"
    }
   ],
   "source": [
    "fig"
   ]
  },
  {
   "cell_type": "code",
   "execution_count": null,
   "metadata": {},
   "outputs": [],
   "source": []
  }
 ],
 "metadata": {
  "kernelspec": {
   "display_name": "Python 3 (ipykernel)",
   "language": "python",
   "name": "python3"
  },
  "language_info": {
   "codemirror_mode": {
    "name": "ipython",
    "version": 3
   },
   "file_extension": ".py",
   "mimetype": "text/x-python",
   "name": "python",
   "nbconvert_exporter": "python",
   "pygments_lexer": "ipython3",
   "version": "3.10.6"
  },
  "vscode": {
   "interpreter": {
    "hash": "d4d1e4263499bec80672ea0156c357c1ee493ec2b1c70f0acce89fc37c4a6abe"
   }
  }
 },
 "nbformat": 4,
 "nbformat_minor": 4
}
