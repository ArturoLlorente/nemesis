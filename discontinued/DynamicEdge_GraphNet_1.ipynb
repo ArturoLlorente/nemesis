{
 "cells": [
  {
   "cell_type": "code",
   "execution_count": 1,
   "metadata": {},
   "outputs": [
    {
     "name": "stderr",
     "output_type": "stream",
     "text": [
      "/usr/lib/python3/dist-packages/pkg_resources/__init__.py:116: PkgResourcesDeprecationWarning: 1.1build1 is an invalid version and will not be supported in a future release\n",
      "  warnings.warn(\n",
      "/usr/lib/python3/dist-packages/pkg_resources/__init__.py:116: PkgResourcesDeprecationWarning: 0.1.43ubuntu1 is an invalid version and will not be supported in a future release\n",
      "  warnings.warn(\n"
     ]
    },
    {
     "name": "stdout",
     "output_type": "stream",
     "text": [
      "CUDA\n",
      "\u001b[1;34mgraphnet\u001b[0m: \u001b[32mINFO    \u001b[0m 2023-03-12 12:54:25 - get_logger - Writing log to logs/graphnet_20230312-125425.log\u001b[0m\n"
     ]
    },
    {
     "name": "stderr",
     "output_type": "stream",
     "text": [
      "INFO:graphnet:Writing log to logs/graphnet_20230312-125425.log\n"
     ]
    }
   ],
   "source": [
    "import pickle\n",
    "import os\n",
    "import sys\n",
    "sys.path.insert(0, '../olympus')\n",
    "sys.path.insert(0, '../graphnet/src')\n",
    "sys.path.insert(0, '../gnn_testbed')\n",
    "os.environ[\"XLA_PYTHON_CLIENT_MEM_FRACTION\"]=\"0.1\"\n",
    "\n",
    "import matplotlib\n",
    "import matplotlib.pyplot as plt\n",
    "import plotly.graph_objects as go\n",
    "from plotly.subplots import make_subplots\n",
    "#from tqdm.auto import tqdm\n",
    "\n",
    "import numpy as np\n",
    "import seaborn as sns\n",
    "import random\n",
    "from jax import random\n",
    "from jax import numpy as jnp\n",
    "\n",
    "import torch\n",
    "import torch_cluster\n",
    "import torch_geometric\n",
    "from torch import Tensor\n",
    "from torch_geometric.data import Data\n",
    "from torch_geometric.loader import DataLoader\n",
    "\n",
    "from nemesis.event_generation.detector import make_line, generate_noise, Detector, make_triang\n",
    "from nemesis.plotting import plot_event, plot_events, plot_confusion\n",
    "from nemesis.data_handling.utils import event_labelling\n",
    "from nemesis.node_features.feature_generation import generate_features\n",
    "from nemesis.evaluation.evaluation import energy_gap_test, model_evaluation\n",
    "from nemesis.evaluation.utils import count_parameters\n",
    "from nemesis.models.train import train_model\n",
    "from nemesis.models.gnns import Dynamic_class, DynEdge_modified\n",
    "\n",
    "from torch.nn import Linear, Identity, ReLU, Softmax, Dropout, LeakyReLU\n",
    "import torch.nn.functional as F\n",
    "from torch_geometric.nn import knn_graph, TAGConv, global_mean_pool, global_max_pool, BatchNorm,  global_add_pool, EdgeConv, DynamicEdgeConv\n",
    "\n",
    "from graphnet.models.gnn.dynedge import DynEdge\n",
    "from graphnet.components.layers import DynEdgeConv\n",
    "from graphnet.models.gnn.gnn import GNN\n",
    "from graphnet.models.utils import calculate_xyzt_homophily, calculate_xyz_homophily_POne\n",
    "\n",
    "%matplotlib inline\n"
   ]
  },
  {
   "cell_type": "code",
   "execution_count": 2,
   "metadata": {},
   "outputs": [
    {
     "name": "stdout",
     "output_type": "stream",
     "text": [
      "CUDA\n"
     ]
    }
   ],
   "source": [
    "outpath = \".\"\n",
    "plt.rcParams['figure.dpi'] = 100\n",
    "if torch.cuda.is_available():\n",
    "    print('CUDA')\n",
    "    device = torch.device(\"cuda\")\n",
    "else:\n",
    "    device = torch.device(\"cpu\")\n",
    "    print('CPU')"
   ]
  },
  {
   "cell_type": "code",
   "execution_count": 3,
   "metadata": {},
   "outputs": [],
   "source": [
    "rng = np.random.RandomState(31338)\n",
    "oms_per_line = 20\n",
    "dist_z = 50 # m\n",
    "dark_noise_rate = 16 * 1e-5  # 1/ns\n",
    "side_len = 100 # m\n",
    "pmts_per_module = 16\n",
    "pmt_cath_area_r = 75E-3 / 2 # m\n",
    "module_radius = 0.21 # m\n",
    "v_x = 0\n",
    "efficiency = pmts_per_module * (pmt_cath_area_r)**2 * np.pi / (4*np.pi*module_radius**2)\n",
    "det = make_triang(side_len, oms_per_line, dist_z, dark_noise_rate, rng, efficiency=efficiency, v_x=v_x, buoy_weight=30)\n",
    "module_positions = jnp.asarray(det.module_coords)"
   ]
  },
  {
   "cell_type": "code",
   "execution_count": 4,
   "metadata": {},
   "outputs": [],
   "source": [
    "#from multiprocessing import Pool\n",
    "#import pickle\n",
    "#import numpy as np\n",
    "#import os\n",
    "#file_idx = range(12)\n",
    "\n",
    "def load_all_events(it):\n",
    "    path_to_events = \"/dss/pone/pone_events/all_events\"\n",
    "    load_array = ['cascades_15000ev_3.5-6.5_1.pickle',  'cascades_15000ev_3.5-6.5_2.pickle',\n",
    "                  'cascades_15000ev_3.5-6.5_3.pickle',  'cascades_15000ev_3.5-6.5_4.pickle',\n",
    "                  'stracks_15000ev_3.5-6.5_1.pickle',   'stracks_15000ev_3.5-6.5_2.pickle', \n",
    "                  'stracks_15000ev_3.5-6.5_3.pickle',   'stracks_15000ev_3.5-6.5_4.pickle', \n",
    "                  'tracks_15000ev_3.5-6.5_1.pickle',    'tracks_15000ev_3.5-6.5_2.pickle', \n",
    "                  'tracks_15000ev_3.5-6.5_3.pickle',    'tracks_15000ev_3.5-6.5_4.pickle']\n",
    "            \n",
    "    events, records = pickle.load(open(os.path.join(path_to_events, load_array[it]), \"rb\"))\n",
    "    \n",
    "    print(f'{it} loaded!')\n",
    "    \n",
    "    return events, records"
   ]
  },
  {
   "cell_type": "code",
   "execution_count": 5,
   "metadata": {},
   "outputs": [
    {
     "name": "stdout",
     "output_type": "stream",
     "text": [
      "1 loaded!\n",
      "5 loaded!\n",
      "9 loaded!\n"
     ]
    }
   ],
   "source": [
    "cascades, cascade_records = load_all_events(1)\n",
    "stracks, strack_records = load_all_events(5)        \n",
    "tracks, track_records = load_all_events(9)"
   ]
  },
  {
   "cell_type": "code",
   "execution_count": null,
   "metadata": {},
   "outputs": [],
   "source": [
    "cascades1, cascade_records1 = load_all_events(0)        \n",
    "cascades2, cascade_records2 = load_all_events(1)        \n",
    "cascades3, cascade_records3 = load_all_events(2)        \n",
    "cascades4, cascade_records4 = load_all_events(3)        \n",
    "cascades = cascades1 + cascades2 + cascades3 + cascades4\n",
    "cascade_records = cascade_records1 + cascade_records2 + cascade_records3 + cascade_records4\n",
    "\n",
    "stracks1, strack_records1 = load_all_events(4)        \n",
    "stracks2, strack_records2 = load_all_events(5)        \n",
    "stracks3, strack_records3 = load_all_events(6)  \n",
    "stracks4, strack_records4 = load_all_events(7)        \n",
    "stracks = stracks1 + stracks2 + stracks3 + stracks4\n",
    "strack_records = strack_records1 + strack_records2 + strack_records3 + strack_records4\n",
    "\n",
    "tracks1, track_records1 = load_all_events(8)\n",
    "tracks2, track_records2 = load_all_events(9)\n",
    "tracks3, track_records3 = load_all_events(10)\n",
    "tracks4, track_records4 = load_all_events(11)\n",
    "tracks = tracks1 + tracks2 + tracks3 + tracks4\n",
    "track_records = track_records1 + track_records2 + track_records3 + track_records4"
   ]
  },
  {
   "cell_type": "code",
   "execution_count": 7,
   "metadata": {},
   "outputs": [
    {
     "name": "stdout",
     "output_type": "stream",
     "text": [
      "15000 15000 15000 15000 15000 15000\n"
     ]
    }
   ],
   "source": [
    "print(len(cascades), len(cascade_records), len(stracks), len(strack_records), len(tracks), len(track_records))"
   ]
  },
  {
   "cell_type": "code",
   "execution_count": 8,
   "metadata": {},
   "outputs": [],
   "source": [
    "cascade_labels, track_labels, strack_labels = event_labelling(track_records, strack_records, cascade_records, det_hull=det.outer_cylinder)"
   ]
  },
  {
   "cell_type": "code",
   "execution_count": 6,
   "metadata": {},
   "outputs": [
    {
     "name": "stdout",
     "output_type": "stream",
     "text": [
      "0 15000 15000\n"
     ]
    }
   ],
   "source": [
    "inside, outside = [], []\n",
    "out_radius = det.outer_cylinder[0]\n",
    "out_height = det.outer_cylinder[1]\n",
    "for aa in range(15000):\n",
    "    pos = track_records[aa].mc_info[0][\"pos\"]\n",
    "\n",
    "    if pos[0]<out_radius and pos[0]>-out_radius and pos[1]<out_radius and pos[1]>-out_radius and pos[2]>-out_height/2 and pos[2]<out_height/2:\n",
    "        #print(pos)\n",
    "        inside.append(aa)\n",
    "    else:\n",
    "        outside.append(aa)\n",
    "        \n",
    "print(len(inside), len(outside), len(inside)+len(outside))"
   ]
  },
  {
   "cell_type": "code",
   "execution_count": 9,
   "metadata": {},
   "outputs": [
    {
     "name": "stdout",
     "output_type": "stream",
     "text": [
      "45000 45000 45000\n"
     ]
    }
   ],
   "source": [
    "all_events = cascades + tracks + stracks\n",
    "all_records = cascade_records + track_records + strack_records\n",
    "all_labels = cascade_labels + track_labels + strack_labels\n",
    "print(len(all_events), len(all_records), len(all_labels))"
   ]
  },
  {
   "cell_type": "code",
   "execution_count": 5,
   "metadata": {},
   "outputs": [],
   "source": [
    "torch.cuda.empty_cache()"
   ]
  },
  {
   "cell_type": "code",
   "execution_count": 13,
   "metadata": {},
   "outputs": [
    {
     "data": {
      "application/vnd.jupyter.widget-view+json": {
       "model_id": "620a79179e1f4c9bbcc6628bacdf78c7",
       "version_major": 2,
       "version_minor": 0
      },
      "text/plain": [
       "  0%|          | 0/45000 [00:00<?, ?it/s]"
      ]
     },
     "metadata": {},
     "output_type": "display_data"
    }
   ],
   "source": [
    "data_array = generate_features(det, all_events, all_labels)"
   ]
  },
  {
   "cell_type": "code",
   "execution_count": 21,
   "metadata": {},
   "outputs": [
    {
     "data": {
      "text/plain": [
       "45000"
      ]
     },
     "execution_count": 21,
     "metadata": {},
     "output_type": "execute_result"
    }
   ],
   "source": [
    "len(data_array)"
   ]
  },
  {
   "cell_type": "code",
   "execution_count": 4,
   "metadata": {},
   "outputs": [],
   "source": [
    "#pickle.dump(data_array, open(\"/dss/pone/pone_events/features_arrays/data_array_180k_k8_R100_right.pickle\", \"wb\"))\n",
    "data_array = pickle.load(open(\"/dss/pone/pone_events/features_arrays/data_array_180k_k8_R100.pickle\", \"rb\"))"
   ]
  },
  {
   "cell_type": "code",
   "execution_count": 5,
   "metadata": {},
   "outputs": [],
   "source": []
  },
  {
   "cell_type": "code",
   "execution_count": 6,
   "metadata": {},
   "outputs": [],
   "source": [
    "import torch\n",
    "from torch import Tensor\n",
    "from torch.nn import Linear, Identity, ReLU, BatchNorm1d, LeakyReLU\n",
    "import torch.nn.functional as F\n",
    "from torch_geometric.nn import TAGConv, global_max_pool, BatchNorm, DynamicEdgeConv\n",
    "from typing import Any, Dict, List, Optional, Union\n",
    "from torch_geometric.typing import NoneType\n",
    "from torch_scatter import scatter_max, scatter_mean, scatter_min, scatter_sum\n",
    "\n",
    "from graphnet.models.gnn.gnn import GNN\n",
    "from graphnet.components.layers import DynEdgeConv\n",
    "from nemesis.models.utils import calculate_xyz_homophily_POne\n",
    "from nemesis.models.gnns import MLP"
   ]
  },
  {
   "cell_type": "code",
   "execution_count": 15,
   "metadata": {},
   "outputs": [],
   "source": [
    "class DynEdge_modified(GNN):\n",
    "    def __init__(self, input_features, output_features, k = 15, features_subset = slice(12, 15), layer_size_scale=4):\n",
    "        \n",
    "        #Architecture configuration\n",
    "        c = layer_size_scale\n",
    "        l1, l2, l3, l4, l5, l6, l7 = (\n",
    "            input_features, c * 16 * 2, c * 32 * 2, c * 64 * 2, c * 32 * 2, c * 512 * 2, output_features)\n",
    "        \n",
    "        #Base class constructor\n",
    "        super().__init__(l1, l6)\n",
    "        \n",
    "        #First Layer\n",
    "        self.conv_add1 = DynEdgeConv(\n",
    "            torch.nn.Sequential(Linear(l1*2, l2),LeakyReLU(),Linear(l2, l3),LeakyReLU()),\n",
    "            aggr=\"max\",\n",
    "            nb_neighbors=k,\n",
    "            features_subset=features_subset)              \n",
    "          \n",
    "        #Second Layer  \n",
    "        self.conv_add2 = DynEdgeConv(\n",
    "            torch.nn.Sequential(Linear(l3*2, l4), LeakyReLU(), Linear(l4, l3), LeakyReLU()),\n",
    "            aggr=\"add\",\n",
    "            nb_neighbors=k,\n",
    "            features_subset=features_subset)\n",
    "        \n",
    "        #Third Layer\n",
    "        self.conv_add3 = DynEdgeConv(\n",
    "            torch.nn.Sequential(Linear(l3*2, l4),LeakyReLU(),Linear(l4, l3),LeakyReLU()),\n",
    "            aggr=\"max\",\n",
    "            nb_neighbors=k,\n",
    "            features_subset=features_subset)\n",
    "        \n",
    "        #Fourth Layer\n",
    "        self.conv_cat1 = DynEdgeConv(\n",
    "            torch.nn.Sequential(Linear(l3*2, l4),LeakyReLU(),Linear(l4, l3),LeakyReLU()),\n",
    "            aggr=\"add\",\n",
    "            nb_neighbors=k,\n",
    "            features_subset=features_subset)\n",
    "        \n",
    "        #Linear layers\n",
    "        self.nn1 = Linear(l3*4 + l1, l4)\n",
    "        self.nn2 = Linear(l4, l5)\n",
    "        self.nn3 = Linear(4*l5 + 3, l6)\n",
    "        self.lrelu = LeakyReLU()\n",
    "        \n",
    "        self.mlp = MLP([l6, l6/2, l6/8, l6/32, l7], dropout=0.5)\n",
    "        \n",
    "        \n",
    "    def forward(self, data):\n",
    "        x, edge_index, batch = data.x, data.edge_index, data.batch\n",
    "        \n",
    "        h_x, h_y, h_z = calculate_xyz_homophily_POne(x, edge_index, batch)\n",
    "        \n",
    "        global_means = scatter_mean(x, batch, dim=0)\n",
    "        \n",
    "        a, edge_index = self.conv_add1(x, edge_index, batch)\n",
    "        b, edge_index = self.conv_add2(a, edge_index, batch)\n",
    "        c, edge_index = self.conv_add3(b, edge_index, batch)\n",
    "        d, edge_index = self.conv_cat1(c, edge_index, batch)\n",
    "        \n",
    "        #Skip cat\n",
    "        x = torch.cat((x, a, b, c, d), dim=1)\n",
    "        \n",
    "        #Post-processing\n",
    "        x = self.nn1(x)\n",
    "        x = self.lrelu(x)\n",
    "        x = self.nn2(x)\n",
    "        \n",
    "        #Aggregation across nodes\n",
    "        a, _ = scatter_max(x, batch, dim=0)\n",
    "        b, _ = scatter_min(x, batch, dim=0)\n",
    "        c = scatter_sum(x, batch, dim=0)\n",
    "        d = scatter_mean(x, batch, dim=0)\n",
    "        \n",
    "        #Cat aggr and scalar feats\n",
    "        \n",
    "        x = torch.cat((a, b, c, d, h_x, h_y, h_z), dim=1)\n",
    "        \n",
    "        #Readout\n",
    "        \n",
    "        x = self.lrelu(x)\n",
    "        x = self.nn3(x)\n",
    "        \n",
    "        x = self.lrelu(x)\n",
    "        \n",
    "        return x     "
   ]
  },
  {
   "cell_type": "code",
   "execution_count": 6,
   "metadata": {},
   "outputs": [
    {
     "name": "stdout",
     "output_type": "stream",
     "text": [
      "+-----------------------+------------+\n",
      "|        Modules        | Parameters |\n",
      "+-----------------------+------------+\n",
      "| conv_add1.nn.0.weight |    960     |\n",
      "|  conv_add1.nn.0.bias  |     32     |\n",
      "| conv_add1.nn.2.weight |    2048    |\n",
      "|  conv_add1.nn.2.bias  |     64     |\n",
      "| conv_add2.nn.0.weight |   16384    |\n",
      "|  conv_add2.nn.0.bias  |    128     |\n",
      "| conv_add2.nn.2.weight |    8192    |\n",
      "|  conv_add2.nn.2.bias  |     64     |\n",
      "| conv_add3.nn.0.weight |   16384    |\n",
      "|  conv_add3.nn.0.bias  |    128     |\n",
      "| conv_add3.nn.2.weight |    8192    |\n",
      "|  conv_add3.nn.2.bias  |     64     |\n",
      "| conv_cat1.nn.0.weight |   16384    |\n",
      "|  conv_cat1.nn.0.bias  |    128     |\n",
      "| conv_cat1.nn.2.weight |    8192    |\n",
      "|  conv_cat1.nn.2.bias  |     64     |\n",
      "|       nn1.weight      |   34688    |\n",
      "|        nn1.bias       |    128     |\n",
      "|       nn2.weight      |    8192    |\n",
      "|        nn2.bias       |     64     |\n",
      "|       nn3.weight      |    1036    |\n",
      "|        nn3.bias       |     4      |\n",
      "+-----------------------+------------+\n",
      "Total Trainable Params: 121520\n"
     ]
    },
    {
     "name": "stderr",
     "output_type": "stream",
     "text": [
      "/home/work/.local/lib/python3.10/site-packages/pytorch_lightning/core/lightning.py:22: LightningDeprecationWarning: pytorch_lightning.core.lightning.LightningModule has been deprecated in v1.7 and will be removed in v1.9. Use the equivalent class from the pytorch_lightning.core.module.LightningModule class instead.\n",
      "  rank_zero_deprecation(\n"
     ]
    },
    {
     "data": {
      "text/plain": [
       "121520"
      ]
     },
     "execution_count": 6,
     "metadata": {},
     "output_type": "execute_result"
    }
   ],
   "source": []
  },
  {
   "cell_type": "code",
   "execution_count": 10,
   "metadata": {},
   "outputs": [
    {
     "data": {
      "application/vnd.jupyter.widget-view+json": {
       "model_id": "b4ca4857930e4c47b44e106c4d0bd649",
       "version_major": 2,
       "version_minor": 0
      },
      "text/plain": [
       "  0%|          | 0/10 [00:00<?, ?it/s]"
      ]
     },
     "metadata": {},
     "output_type": "display_data"
    },
    {
     "name": "stdout",
     "output_type": "stream",
     "text": [
      "Epoch: 000, Train Acc: 0.7549, Val Acc: 0.8215, patience: 0\n",
      "Epoch: 001, Train Acc: 0.8171, Val Acc: 0.8235, patience: 1\n",
      "Epoch: 002, Train Acc: 0.8259, Val Acc: 0.8351, patience: 1\n",
      "Epoch: 003, Train Acc: 0.8321, Val Acc: 0.8481, patience: 1\n",
      "Epoch: 004, Train Acc: 0.8370, Val Acc: 0.8466, patience: 1\n",
      "Epoch: 005, Train Acc: 0.8424, Val Acc: 0.8416, patience: 2\n",
      "Epoch: 006, Train Acc: 0.8461, Val Acc: 0.8420, patience: 3\n",
      "Epoch: 007, Train Acc: 0.8489, Val Acc: 0.8543, patience: 4\n",
      "Epoch: 008, Train Acc: 0.8509, Val Acc: 0.8580, patience: 1\n",
      "Epoch: 009, Train Acc: 0.8539, Val Acc: 0.8623, patience: 1\n",
      "The best epoch was:  9\n",
      "Number of training epochs:  9\n"
     ]
    },
    {
     "data": {
      "image/png": "[encoded data removed]",
      "text/plain": [
       "<Figure size 640x480 with 1 Axes>"
      ]
     },
     "metadata": {},
     "output_type": "display_data"
    }
   ],
   "source": [
    "import random\n",
    "random.seed(982356)\n",
    "\n",
    "indices = np.arange(len(data_array))\n",
    "random.shuffle(indices)\n",
    "\n",
    "\n",
    "shuffled_data = [data_array[i] for i in indices]\n",
    "split_test = int(len(shuffled_data)*0.9)\n",
    "training_data = shuffled_data[:split_test]\n",
    "split_val = int(len(training_data)*0.9)\n",
    "train_dataset = training_data[:split_val]\n",
    "val_dataset = training_data[split_val:]\n",
    "\n",
    "test_dataset = shuffled_data[split_test:]\n",
    "test_indices = indices[split_test:]\n",
    "\n",
    "k=11\n",
    "epochs = 10\n",
    "patience=5\n",
    "batch_size=200\n",
    "lr=0.001\n",
    "layer_size_scale = 1\n",
    "model = DynEdge_modified(15, 4, k = k, features_subset = slice(12, 15), layer_size_scale=layer_size_scale)\n",
    "model.to(device)\n",
    "label_map = {0:\"Contained cascade\", 1:'Throughgoing Track', 2:\"Starts in detector\", 3:\"Rest of events\"}\n",
    "model, all_trains_acc, all_vals_acc = train_model(model, train_dataset, val_dataset, label_map, k=k, epochs=epochs, patience=patience, print_step=1, batch_size=batch_size, lr=lr)\n",
    "plt.plot(np.linspace(0, len(all_trains_acc), len(all_trains_acc)), all_trains_acc, label=\"Training Accuracy\")\n",
    "plt.plot(np.linspace(0, len(all_vals_acc), len(all_vals_acc)), all_vals_acc, label=\"Validation Accuracy\")\n",
    "plt.legend()\n",
    "plt.show()\n"
   ]
  },
  {
   "cell_type": "code",
   "execution_count": 22,
   "metadata": {},
   "outputs": [
    {
     "name": "stdout",
     "output_type": "stream",
     "text": [
      "file DynEdgeMod_180.0k_R100_k11_B200_L1_lr0.001.pt already exist\n"
     ]
    }
   ],
   "source": []
  },
  {
   "cell_type": "code",
   "execution_count": 23,
   "metadata": {},
   "outputs": [
    {
     "data": {
      "text/plain": [
       "180000"
      ]
     },
     "execution_count": 23,
     "metadata": {},
     "output_type": "execute_result"
    }
   ],
   "source": [
    "len(data_array)"
   ]
  },
  {
   "cell_type": "code",
   "execution_count": 24,
   "metadata": {},
   "outputs": [
    {
     "ename": "NameError",
     "evalue": "name 'all_events' is not defined",
     "output_type": "error",
     "traceback": [
      "\u001b[0;31m---------------------------------------------------------------------------\u001b[0m",
      "\u001b[0;31mNameError\u001b[0m                                 Traceback (most recent call last)",
      "Cell \u001b[0;32mIn [24], line 2\u001b[0m\n\u001b[1;32m      1\u001b[0m test_loader \u001b[38;5;241m=\u001b[39m DataLoader(test_dataset, batch_size\u001b[38;5;241m=\u001b[39mbatch_size, shuffle\u001b[38;5;241m=\u001b[39m\u001b[38;5;28;01mFalse\u001b[39;00m)\n\u001b[0;32m----> 2\u001b[0m fig1, miss_idx1, test_acc\u001b[38;5;241m=\u001b[39mmodel_evaluation(model, test_loader, \u001b[43mall_events\u001b[49m, all_records, all_labels, label_map, test_indices)\n\u001b[1;32m      3\u001b[0m \u001b[38;5;28mprint\u001b[39m(\u001b[38;5;124m'\u001b[39m\u001b[38;5;124mThe test accuracy achieved is: \u001b[39m\u001b[38;5;124m'\u001b[39m, test_acc)\n",
      "\u001b[0;31mNameError\u001b[0m: name 'all_events' is not defined"
     ]
    }
   ],
   "source": [
    "test_loader = DataLoader(test_dataset, batch_size=batch_size, shuffle=False)\n",
    "fig1, miss_idx1, test_acc=model_evaluation(model, test_loader, all_events, all_records, all_labels, label_map, test_indices)\n",
    "print('The test accuracy achieved is: ', test_acc)"
   ]
  },
  {
   "cell_type": "code",
   "execution_count": 18,
   "metadata": {},
   "outputs": [],
   "source": [
    "path_to_models = \"/dss/pone/nemesis_trained_models/\"\n",
    "#model = torch.load(os.path.join(outpath, \"Dynmod_model_180k_R_75.pt\"))\n",
    "torch.save(model, os.path.join(outpath, \"DynMod_model_180k_R_out_B250_107E_L8.pt\"))"
   ]
  },
  {
   "cell_type": "code",
   "execution_count": null,
   "metadata": {},
   "outputs": [],
   "source": [
    "for i,ii in enumerate(data_array):\n",
    "    if i%1000 == 0:\n",
    "        print(ii.y)"
   ]
  },
  {
   "cell_type": "code",
   "execution_count": null,
   "metadata": {},
   "outputs": [],
   "source": [
    "import pickle\n",
    "import os\n",
    "import functools\n",
    "os.environ[\"XLA_PYTHON_CLIENT_MEM_FRACTION\"]=\"0.8\"\n",
    "import sys\n",
    "sys.path.insert(0, '../olympus')\n",
    "sys.path.insert(0, '../hyperion')\n",
    "import matplotlib as mpl\n",
    "import matplotlib.pyplot as plt\n",
    "import numpy as np\n",
    "import seaborn as sns\n",
    "from itertools import product\n",
    "import awkward as ak\n",
    "import pandas as pd\n",
    "from olympus.event_generation.photon_propagation.norm_flow_photons import make_generate_norm_flow_photons, make_nflow_photon_likelihood\n",
    "from olympus.event_generation.photon_propagation.utils import sources_to_model_input\n",
    "from nemesis.event_generation.detector import Detector, make_line, make_triang\n",
    "from olympus.event_generation.event_generation import (\n",
    "    generate_cascade,\n",
    "    generate_cascades,\n",
    "    simulate_noise,\n",
    "    generate_realistic_track,\n",
    "    generate_realistic_tracks,\n",
    "    generate_realistic_tracks_test,\n",
    "    generate_realistic_starting_tracks,)\n",
    "from olympus.event_generation.lightyield import make_pointlike_cascade_source, make_realistic_cascade_source\n",
    "from olympus.event_generation.utils import sph_to_cart_jnp, proposal_setup\n",
    "\n",
    "#from olympus.plotting import plot_event\n",
    "from hyperion.medium import medium_collections\n",
    "from hyperion.constants import Constants\n",
    "import jax\n",
    "jax.config.update('jax_platform_name', 'cpu')\n",
    "from jax import random\n",
    "from jax import numpy as jnp\n",
    "import json\n",
    "\n",
    "path_to_config = \"../hyperion/data/pone_config_optimistic.json\"\n",
    "config = json.load(open(path_to_config))[\"photon_propagation\"]\n",
    "ref_ix_f, sca_a_f, sca_l_f, _ = medium_collections[config[\"medium\"]]\n",
    "\n",
    "def c_medium_f(wl):\n",
    "    \"\"\"Speed of light in medium for wl (nm).\"\"\"\n",
    "    return Constants.BaseConstants.c_vac / ref_ix_f(wl)\n",
    "\n",
    "rng = np.random.RandomState(31338)\n",
    "oms_per_line = 20\n",
    "dist_z = 50 # m\n",
    "dark_noise_rate = 16 * 1e-5  # 1/ns\n",
    "side_len = 100 # m\n",
    "pmts_per_module = 16\n",
    "pmt_cath_area_r = 75E-3 / 2 # m\n",
    "module_radius = 0.21 # m\n",
    "\n"
   ]
  },
  {
   "cell_type": "code",
   "execution_count": null,
   "metadata": {},
   "outputs": [],
   "source": [
    "from multiprocessing import Pool\n",
    "import pickle\n",
    "import numpy as np\n",
    "import os\n",
    "def load_test_events(v_x):\n",
    "    path_to_events = \"/dss/pone/pone_events\"\n",
    "    det, cascades, cascade_records = pickle.load(open(os.path.join(path_to_events, f\"cascades1500_vx{v_x}.pickle\"), \"rb\"))\n",
    "    det, tracks, track_records = pickle.load(open(os.path.join(path_to_events, f\"tracks1500_vx{v_x}.pickle\"), \"rb\"))\n",
    "    det, stracks, strack_records = pickle.load(open(os.path.join(path_to_events, f\"starting_tracks1500_vx{v_x}.pickle\"), \"rb\"))\n",
    "    \n",
    "    all_ev = [det, cascades, cascade_records, tracks, track_records, stracks, strack_records]\n",
    "    \n",
    "    return all_ev\n",
    "    \n",
    "    \n",
    "cascades_test, cascade_records_test = [], []\n",
    "tracks_test, track_records_test = [], []\n",
    "stracks_test, strack_records_test = [], []\n",
    "det_test = []\n",
    "v_x_all = []\n",
    "\n",
    "for it in range(1,21):\n",
    "    v_x_all.append(np.round(it*0.005, 3))\n",
    "\n",
    "for i in range(2):\n",
    "    v_x = v_x_all[(i*10):((i+1)*10)]\n",
    "    if __name__ == '__main__':\n",
    "        with Pool(10) as p:\n",
    "            all_ev = p.map(load_test_events, v_x)\n",
    "    print(f\"iteration {i} done\")\n",
    "\n",
    "\n",
    "    for v in range(len(all_ev)):\n",
    "        det_test.append(all_ev[v][0])\n",
    "        cascades_test += all_ev[v][1]\n",
    "        cascade_records_test += all_ev[v][2]\n",
    "        tracks_test += all_ev[v][3]\n",
    "        track_records_test += all_ev[v][4]    \n",
    "        stracks_test += all_ev[v][5]\n",
    "        strack_records_test += all_ev[v][6]"
   ]
  },
  {
   "cell_type": "code",
   "execution_count": null,
   "metadata": {},
   "outputs": [],
   "source": [
    "rng = np.random.RandomState(31338)\n",
    "oms_per_line = 20\n",
    "dist_z = 50 # m\n",
    "dark_noise_rate = 16 * 1e-5  # 1/ns\n",
    "side_len = 100 # m\n",
    "pmts_per_module = 16\n",
    "pmt_cath_area_r = 75E-3 / 2 # m\n",
    "module_radius = 0.21 # m\n",
    "v_x = 0\n",
    "\n",
    "efficiency = pmts_per_module * (pmt_cath_area_r)**2 * np.pi / (4*np.pi*module_radius**2)\n",
    "det = make_triang(side_len, oms_per_line, dist_z, dark_noise_rate, rng, efficiency=efficiency, v_x=v_x, buoy_weight=30)\n",
    "module_positions = jnp.asarray(det.module_coords)"
   ]
  },
  {
   "cell_type": "code",
   "execution_count": null,
   "metadata": {},
   "outputs": [],
   "source": [
    "cascade_labels_test, track_labels_test, strack_labels_test = event_labelling(track_records_test, strack_records_test, cascade_records_test, det_hull=[75, 1100])\n",
    "all_events_test = cascades_test + tracks_test + stracks_test\n",
    "all_records_test = cascade_records_test + track_records_test + strack_records_test\n",
    "all_labels_test = cascade_labels_test + track_labels_test + strack_labels_test"
   ]
  },
  {
   "cell_type": "code",
   "execution_count": null,
   "metadata": {},
   "outputs": [],
   "source": []
  },
  {
   "cell_type": "code",
   "execution_count": null,
   "metadata": {},
   "outputs": [],
   "source": [
    "gaps_to_evaluate = energy_gap_test(det, model, all_events_test, all_records_test, all_labels_test, num_divisions=10, k=8)\n",
    "energy_divisions = gaps_to_evaluate.energy_division_loaders()\n",
    "fig, test_accuracies, misscls_idx = gaps_to_evaluate.energy_evaluation()"
   ]
  },
  {
   "cell_type": "code",
   "execution_count": null,
   "metadata": {},
   "outputs": [],
   "source": []
  },
  {
   "cell_type": "code",
   "execution_count": null,
   "metadata": {},
   "outputs": [],
   "source": []
  }
 ],
 "metadata": {
  "kernelspec": {
   "display_name": "Python 3 (ipykernel)",
   "language": "python",
   "name": "python3"
  },
  "language_info": {
   "codemirror_mode": {
    "name": "ipython",
    "version": 3
   },
   "file_extension": ".py",
   "mimetype": "text/x-python",
   "name": "python",
   "nbconvert_exporter": "python",
   "pygments_lexer": "ipython3",
   "version": "3.10.6"
  },
  "vscode": {
   "interpreter": {
    "hash": "d4d1e4263499bec80672ea0156c357c1ee493ec2b1c70f0acce89fc37c4a6abe"
   }
  }
 },
 "nbformat": 4,
 "nbformat_minor": 4
}
