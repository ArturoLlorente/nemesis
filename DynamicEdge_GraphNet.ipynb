{
 "cells": [
  {
   "cell_type": "code",
   "execution_count": 1,
   "metadata": {},
   "outputs": [
    {
     "ename": "ModuleNotFoundError",
     "evalue": "No module named 'plotly'",
     "output_type": "error",
     "traceback": [
      "\u001b[0;31m---------------------------------------------------------------------------\u001b[0m",
      "\u001b[0;31mModuleNotFoundError\u001b[0m                       Traceback (most recent call last)",
      "\u001b[1;32m/home/arturopp/repos/nemesis/DynamicEdge_GraphNet.ipynb Cell 1\u001b[0m in \u001b[0;36m<cell line: 9>\u001b[0;34m()\u001b[0m\n\u001b[1;32m      <a href='vscode-notebook-cell:/home/arturopp/repos/nemesis/DynamicEdge_GraphNet.ipynb#W0sZmlsZQ%3D%3D?line=6'>7</a>\u001b[0m \u001b[39mimport\u001b[39;00m \u001b[39mmatplotlib\u001b[39;00m\n\u001b[1;32m      <a href='vscode-notebook-cell:/home/arturopp/repos/nemesis/DynamicEdge_GraphNet.ipynb#W0sZmlsZQ%3D%3D?line=7'>8</a>\u001b[0m \u001b[39mimport\u001b[39;00m \u001b[39mmatplotlib\u001b[39;00m\u001b[39m.\u001b[39;00m\u001b[39mpyplot\u001b[39;00m \u001b[39mas\u001b[39;00m \u001b[39mplt\u001b[39;00m\n\u001b[0;32m----> <a href='vscode-notebook-cell:/home/arturopp/repos/nemesis/DynamicEdge_GraphNet.ipynb#W0sZmlsZQ%3D%3D?line=8'>9</a>\u001b[0m \u001b[39mimport\u001b[39;00m \u001b[39mplotly\u001b[39;00m\u001b[39m.\u001b[39;00m\u001b[39mgraph_objects\u001b[39;00m \u001b[39mas\u001b[39;00m \u001b[39mgo\u001b[39;00m\n\u001b[1;32m     <a href='vscode-notebook-cell:/home/arturopp/repos/nemesis/DynamicEdge_GraphNet.ipynb#W0sZmlsZQ%3D%3D?line=9'>10</a>\u001b[0m \u001b[39mfrom\u001b[39;00m \u001b[39mplotly\u001b[39;00m\u001b[39m.\u001b[39;00m\u001b[39msubplots\u001b[39;00m \u001b[39mimport\u001b[39;00m make_subplots\n\u001b[1;32m     <a href='vscode-notebook-cell:/home/arturopp/repos/nemesis/DynamicEdge_GraphNet.ipynb#W0sZmlsZQ%3D%3D?line=11'>12</a>\u001b[0m \u001b[39mimport\u001b[39;00m \u001b[39mnumpy\u001b[39;00m \u001b[39mas\u001b[39;00m \u001b[39mnp\u001b[39;00m\n",
      "\u001b[0;31mModuleNotFoundError\u001b[0m: No module named 'plotly'"
     ]
    }
   ],
   "source": [
    "import pickle\n",
    "import os\n",
    "import sys\n",
    "sys.path.insert(0, '../olympus')\n",
    "sys.path.insert(0, '../graphnet/src')\n",
    "\n",
    "import matplotlib\n",
    "import matplotlib.pyplot as plt\n",
    "import plotly.graph_objects as go\n",
    "from plotly.subplots import make_subplots\n",
    "\n",
    "import numpy as np\n",
    "import seaborn as sns\n",
    "import random\n",
    "from jax import random\n",
    "from jax import numpy as jnp\n",
    "\n",
    "import torch\n",
    "import torch_cluster\n",
    "import torch_geometric\n",
    "from torch import Tensor\n",
    "from torch_geometric.data import Data\n",
    "from torch_geometric.loader import DataLoader\n",
    "\n",
    "from nemesis.event_generation.detector import make_line, generate_noise, Detector, make_triang\n",
    "from nemesis.plotting import plot_event, plot_events, plot_confusion\n",
    "from nemesis.data_handling.utils import event_labelling\n",
    "from nemesis.evaluation import energy_division_loaders, energy_evaluation\n",
    "from nemesis.node_features import generate_features\n",
    "\n",
    "from torch.nn import Linear, Identity, ReLU, Softmax, Dropout, LeakyReLU\n",
    "import torch.nn.functional as F\n",
    "from torch_geometric.nn import knn_graph, TAGConv, global_mean_pool, global_max_pool, BatchNorm,  global_add_pool, EdgeConv, DynamicEdgeConv\n",
    "\n",
    "from graphnet.models.gnn.dynedge import DynEdge\n",
    "from graphnet.components.layers import DynEdgeConv\n",
    "from graphnet.models.gnn.gnn import GNN\n",
    "from graphnet.models.utils import calculate_xyzt_homophily, calculate_xyz_homophily_POne\n",
    "\n",
    "%matplotlib inline\n"
   ]
  },
  {
   "cell_type": "code",
   "execution_count": null,
   "metadata": {},
   "outputs": [],
   "source": [
    "outpath = \".\"\n",
    "plt.rcParams['figure.dpi'] = 100\n",
    "if torch.cuda.is_available():\n",
    "    print('CUDA')\n",
    "    device = torch.device(\"cuda\")\n",
    "else:\n",
    "    device = torch.device(\"cpu\")\n",
    "    print('CPU')\n",
    "    \n",
    "rng = np.random.RandomState(31338)\n",
    "oms_per_line = 20\n",
    "dist_z = 50 # m\n",
    "dark_noise_rate = 16 * 1e-5  # 1/ns\n",
    "side_len = 100 # m\n",
    "pmts_per_module = 16\n",
    "pmt_cath_area_r = 75E-3 / 2 # m\n",
    "module_radius = 0.21 # m\n",
    "\n",
    "efficiency = pmts_per_module * (pmt_cath_area_r)**2 * np.pi / (4*np.pi*module_radius**2)\n",
    "det = make_triang(side_len, oms_per_line, dist_z, dark_noise_rate, rng, efficiency=efficiency)\n",
    "module_positions = jnp.asarray(det.module_coords)"
   ]
  },
  {
   "cell_type": "code",
   "execution_count": null,
   "metadata": {},
   "outputs": [],
   "source": [
    "cascades, cascade_records = pickle.load(open(os.path.join(outpath, f\"/dss/pone/pone_events/cascades_backup/cascades_1500_0.pickle\"), \"rb\"))\n",
    "tracks, track_records = pickle.load(open(os.path.join(outpath, f\"/dss/pone/pone_events/tracks_backup/tracks_1500_0.pickle\"), \"rb\"))\n",
    "stracks, strack_records = pickle.load(open(os.path.join(outpath, f\"/dss/pone/pone_events/stracks_backup/stracks_1500_0.pickle\"), \"rb\"))"
   ]
  },
  {
   "cell_type": "code",
   "execution_count": null,
   "metadata": {},
   "outputs": [],
   "source": [
    "cascades1, cascade_records1 = pickle.load(open(f\"/dss/pone/pone_events/cascades_15000ev_3.5-6.5.pickle\", \"rb\"))\n",
    "print('cascades DONE!')\n",
    "tracks1, track_records1 = pickle.load(open(f\"/dss/pone/pone_events/tracks_15000ev_3.5-6.5.pickle\", \"rb\"))\n",
    "print('tracks DONE!')\n",
    "stracks1, strack_records1 = pickle.load(open(f\"/dss/pone/pone_events/stracks_15000ev_3.5-6.5.pickle\", \"rb\"))\n",
    "print('starting tracks DONE!')\n",
    "cascades2, cascade_records2 = pickle.load(open(f\"/dss/pone/pone_events/cascades_15000ev_3.5-6.5_2.pickle\", \"rb\"))\n",
    "print('cascades DONE!')\n",
    "tracks2, track_records2 = pickle.load(open(f\"/dss/pone/pone_events/tracks_15000ev_3.5-6.5_2.pickle\", \"rb\"))\n",
    "print('tracks DONE!')\n",
    "stracks2, strack_records2 = pickle.load(open(f\"/dss/pone/pone_events/stracks_15000ev_3.5-6.5_2.pickle\", \"rb\"))\n",
    "print('starting tracks DONE!')\n",
    "\n",
    "cascades = cascades1 + cascades2\n",
    "cascade_records = cascade_records1 + cascade_records2\n",
    "tracks = tracks1 + tracks2\n",
    "track_records = track_records1 + track_records2\n",
    "stracks = stracks1 + stracks2\n",
    "strack_records = strack_records1 + strack_records2"
   ]
  },
  {
   "cell_type": "code",
   "execution_count": null,
   "metadata": {},
   "outputs": [],
   "source": [
    "cascade_labels, track_labels, strack_labels = event_labelling(track_records, strack_records, cascade_records, det_hull=(75.0, 1000.0))\n",
    "\n",
    "all_events = cascades + tracks + stracks\n",
    "all_records = cascade_records + track_records + strack_records\n",
    "all_labels = cascade_labels + track_labels + strack_labels\n",
    "print(len(all_events), len(all_records), len(all_labels))"
   ]
  },
  {
   "cell_type": "code",
   "execution_count": null,
   "metadata": {},
   "outputs": [],
   "source": [
    "#pickle.dump(data_array, open(\"/dss/pone/pone_events/features_arrays/data_array_90k_k8_R75.pickle\", \"wb\"))\n",
    "data_array = pickle.load(open(\"/dss/pone/pone_events/features_arrays/data_array_90k_k8_R75.pickle\", \"rb\"))"
   ]
  },
  {
   "cell_type": "code",
   "execution_count": null,
   "metadata": {},
   "outputs": [],
   "source": [
    "import random\n",
    "random.seed(234567)\n",
    "\n",
    "indices = np.arange(len(data_array))\n",
    "random.shuffle(indices)\n",
    "\n",
    "\n",
    "shuffled_data = [data_array[i] for i in indices]\n",
    "split_test = int(len(shuffled_data)*0.9)\n",
    "training_data = shuffled_data[:split_test]\n",
    "split_val = int(len(training_data)*0.9)\n",
    "train_dataset = training_data[:split_val]\n",
    "val_dataset = training_data[split_val:]\n",
    "\n",
    "test_dataset = shuffled_data[split_test:]\n",
    "test_indices = indices[split_test:]"
   ]
  },
  {
   "cell_type": "code",
   "execution_count": null,
   "metadata": {},
   "outputs": [],
   "source": [
    "epochs = 200\n",
    "num_classes=4\n",
    "patience = 200\n",
    "batch_sizes = [200]\n",
    "learning_rates = [0.001]\n",
    "use_writer = False\n",
    "print_step = 1\n",
    "k_values = [8]\n",
    "schedulers = ['ReduceLROnPlateau']#, 'CosineAnnealingLR', 'OneCycleLR', 'MultiStepLR']\n",
    "label_map = {0:\"Contained cascade\", 1:'Throughgoing Track', 2:\"Starts in detector\", 3:\"Rest of events\"}\n",
    "best_acc, patience_count = 0, 0\n",
    "all_trains_acc, all_vals_acc, all_trains_loss, all_vals_loss = [], [], [], []\n",
    "num_node_features=15\n",
    "\n"
   ]
  }
 ],
 "metadata": {
  "kernelspec": {
   "display_name": "Python 3.8.10 64-bit",
   "language": "python",
   "name": "python3"
  },
  "language_info": {
   "codemirror_mode": {
    "name": "ipython",
    "version": 3
   },
   "file_extension": ".py",
   "mimetype": "text/x-python",
   "name": "python",
   "nbconvert_exporter": "python",
   "pygments_lexer": "ipython3",
   "version": "3.8.10"
  },
  "orig_nbformat": 4,
  "vscode": {
   "interpreter": {
    "hash": "916dbcbb3f70747c44a77c7bcd40155683ae19c65e1c03b4aa3499c5328201f1"
   }
  }
 },
 "nbformat": 4,
 "nbformat_minor": 2
}
